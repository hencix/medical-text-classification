{
  "cells": [
    {
      "cell_type": "markdown",
      "metadata": {
        "formattedRanges": [],
        "cell_id": "e3becf723cb04bf1b058da19ad07f8f8",
        "deepnote_cell_type": "text-cell-h2",
        "id": "v5WmDtfDWP0p"
      },
      "source": [
        "## CNN - Word Embeddings from scratch"
      ]
    },
    {
      "cell_type": "code",
      "metadata": {
        "source_hash": null,
        "output_cleared": true,
        "execution_start": 1697056100646,
        "execution_millis": 1134,
        "deepnote_to_be_reexecuted": false,
        "cell_id": "8bb9905ee04d403784b2080735407a09",
        "deepnote_cell_type": "code",
        "id": "3wAtAnrAWP0u"
      },
      "source": [
        "# Import the necessary libraries\n",
        "import numpy as np\n",
        "import pandas as pd\n",
        "from keras.models import Sequential\n",
        "from keras.layers import Conv1D, GlobalMaxPooling1D, Dense, Embedding, AveragePooling1D, GlobalAveragePooling1D, Dropout\n",
        "from sklearn.model_selection import train_test_split\n",
        "from sklearn.preprocessing import LabelEncoder\n",
        "from keras.preprocessing.text import Tokenizer\n",
        "from keras_preprocessing.sequence import pad_sequences\n",
        "from keras.callbacks import EarlyStopping, ModelCheckpoint\n",
        "from sklearn.model_selection import GridSearchCV\n",
        "from sklearn.metrics import accuracy_score, classification_report, confusion_matrix, ConfusionMatrixDisplay\n",
        "from keras.wrappers.scikit_learn import KerasClassifier\n",
        "import matplotlib.pyplot as plt"
      ],
      "execution_count": null,
      "outputs": []
    },
    {
      "cell_type": "code",
      "metadata": {
        "source_hash": null,
        "output_cleared": true,
        "execution_start": 1697055545848,
        "execution_millis": 61,
        "deepnote_to_be_reexecuted": false,
        "cell_id": "cddf9512abdd4a069572853f400f25dc",
        "deepnote_cell_type": "code",
        "id": "1nIv8lGMWP0z"
      },
      "source": [
        "# Load the dataset\n",
        "data = pd.read_csv('balanced.csv')"
      ],
      "execution_count": null,
      "outputs": []
    },
    {
      "cell_type": "code",
      "metadata": {
        "source_hash": null,
        "output_cleared": true,
        "execution_start": 1697055545901,
        "execution_millis": 10,
        "deepnote_to_be_reexecuted": false,
        "cell_id": "e4f3963a56e14bc58a327c3447133f37",
        "deepnote_cell_type": "code",
        "id": "wdnCNHAiWP00"
      },
      "source": [
        "# Turn label into a discrete variable\n",
        "label_encoder = LabelEncoder()\n",
        "data['condition_label'] = label_encoder.fit_transform(data['condition_label'])"
      ],
      "execution_count": null,
      "outputs": []
    },
    {
      "cell_type": "code",
      "metadata": {
        "source_hash": null,
        "output_cleared": true,
        "execution_start": 1697055545933,
        "execution_millis": 714,
        "deepnote_to_be_reexecuted": false,
        "cell_id": "dd4c6dc3a7cc47af90befca944fb5bc6",
        "deepnote_cell_type": "code",
        "id": "3W6Hly8GWP01"
      },
      "source": [
        "# Tokenize the text and pad to a fixed length\n",
        "tokenizer = Tokenizer()\n",
        "tokenizer.fit_on_texts(data['clean_text'])\n",
        "sequences = tokenizer.texts_to_sequences(data['clean_text'])\n",
        "\n",
        "max_sequence_length = 250\n",
        "X_padded = pad_sequences(sequences, maxlen=max_sequence_length)"
      ],
      "execution_count": null,
      "outputs": []
    },
    {
      "cell_type": "code",
      "metadata": {
        "source_hash": null,
        "output_cleared": true,
        "execution_start": 1697055813900,
        "execution_millis": 14,
        "deepnote_to_be_reexecuted": false,
        "cell_id": "b7ab377ba22f42e68a7b581f7cead1ea",
        "deepnote_cell_type": "code",
        "id": "AVG4Z2IgWP03"
      },
      "source": [
        "# Split data into training and testing sets\n",
        "X_train, X_test, y_train, y_test = train_test_split(X_padded, data['condition_label'], test_size=0.2, random_state=12)"
      ],
      "execution_count": null,
      "outputs": []
    },
    {
      "cell_type": "code",
      "metadata": {
        "source_hash": null,
        "output_cleared": true,
        "execution_start": 1697055814919,
        "execution_millis": 33,
        "deepnote_to_be_reexecuted": false,
        "cell_id": "56fd1ced0ba54566b3124d2d92d3e129",
        "deepnote_cell_type": "code",
        "id": "FDGRgpdFWP05"
      },
      "source": [
        "# Define CNN model with custom embeddings\n",
        "def create_model(embedding_dim=300, filters=128, kernel_size=5, dense_units=128, dropout_rate=0.5):\n",
        "    model = Sequential()\n",
        "    model.add(Embedding(input_dim=len(tokenizer.word_index) + 1, output_dim=embedding_dim, input_length=max_sequence_length))\n",
        "    model.add(Conv1D(filters, kernel_size, activation='relu'))\n",
        "    model.add(GlobalAveragePooling1D())\n",
        "    model.add(Dense(dense_units, activation='relu'))\n",
        "    model.add(Dropout(dropout_rate))\n",
        "    model.add(Dense(4, activation='softmax'))\n",
        "    model.compile(optimizer='adam', loss='sparse_categorical_crossentropy', metrics=['accuracy'])\n",
        "    return model\n",
        "\n",
        "model = KerasClassifier(build_fn=create_model, verbose=1)"
      ],
      "execution_count": null,
      "outputs": []
    },
    {
      "cell_type": "code",
      "metadata": {
        "source_hash": null,
        "output_cleared": true,
        "execution_start": 1697055815842,
        "execution_millis": 12,
        "deepnote_to_be_reexecuted": false,
        "cell_id": "ec017d61b19d4adf8393d235c5a0b7ff",
        "deepnote_cell_type": "code",
        "id": "ia-VaMxBWP09"
      },
      "source": [
        "# Define the hyperparameter grid for CNN\n",
        "param_grid = {\n",
        "    'filters': [64, 128, 256],\n",
        "    'kernel_size': [3, 5, 7],\n",
        "    'dense_units': [64, 128, 256],\n",
        "    'dropout_rate': [0.3, 0.5, 0.7]\n",
        "}"
      ],
      "execution_count": null,
      "outputs": []
    },
    {
      "cell_type": "code",
      "metadata": {
        "source_hash": null,
        "output_cleared": true,
        "execution_start": 1697055816581,
        "execution_millis": 12,
        "deepnote_to_be_reexecuted": false,
        "cell_id": "8b44038e5a944ee88b33c09100efec1d",
        "deepnote_cell_type": "code",
        "id": "9SGv7BASWP1A"
      },
      "source": [
        "best_param_grid = {\n",
        "    'filters': [256],\n",
        "    'kernel_size': [7],\n",
        "    'dense_units': [256],\n",
        "    'dropout_rate': [0.3]\n",
        "}"
      ],
      "execution_count": null,
      "outputs": []
    },
    {
      "cell_type": "code",
      "metadata": {
        "source_hash": null,
        "output_cleared": true,
        "execution_start": 1697055818850,
        "execution_millis": 170122,
        "deepnote_to_be_reexecuted": false,
        "cell_id": "75ecac6ca772404f984fe33cc2cff4c2",
        "deepnote_cell_type": "code",
        "id": "TqxZfpQqWP1B"
      },
      "source": [
        "# Use GridSearchCV to define the best hyperparameters\n",
        "es = EarlyStopping(monitor='val_loss', mode='min', verbose=1, patience=3)\n",
        "mc = ModelCheckpoint('best_model.h5', monitor='val_accuracy', mode='max', save_best_only=True, verbose=1)\n",
        "\n",
        "grid = GridSearchCV(estimator=model, param_grid=best_param_grid, cv=3)\n",
        "grid_result = grid.fit(X_train, y_train, validation_split=0.1, callbacks=[es, mc])\n",
        "\n",
        "print(\"Best Parameters: \", grid_result.best_params_)\n",
        "print(\"Best Accuracy: \", grid_result.best_score_)"
      ],
      "execution_count": null,
      "outputs": []
    },
    {
      "cell_type": "code",
      "metadata": {
        "source_hash": null,
        "output_cleared": true,
        "execution_start": 1697055997099,
        "execution_millis": 5714,
        "deepnote_to_be_reexecuted": false,
        "cell_id": "2964b402c61743e0b4edaee014ab2ced",
        "deepnote_cell_type": "code",
        "id": "05roboScWP1D"
      },
      "source": [
        "# Make predictions on the test data\n",
        "best_model = grid_result.best_estimator_.model\n",
        "loss, accuracy = best_model.evaluate(X_test, np.array(y_test))\n",
        "print(f\"Test Loss: {loss}, Test Accuracy: {accuracy}\")\n",
        "\n",
        "y_pred = best_model.predict(X_test[:, :, np.newaxis])\n",
        "y_pred_classes = np.argmax(y_pred, axis=1)\n",
        "\n",
        "y_test_classes = label_encoder.inverse_transform(y_test)\n",
        "y_pred_classes = label_encoder.inverse_transform(y_pred_classes)"
      ],
      "execution_count": null,
      "outputs": []
    },
    {
      "cell_type": "code",
      "metadata": {
        "source_hash": null,
        "output_cleared": true,
        "execution_start": 1697056007052,
        "execution_millis": 22,
        "deepnote_to_be_reexecuted": false,
        "cell_id": "d10bd8a0186b48e782388263a2a5048e",
        "deepnote_cell_type": "code",
        "id": "mpeckRWUWP1E"
      },
      "source": [
        "# Generate and print classification report for the best model\n",
        "print(classification_report(y_test_classes, y_pred_classes))"
      ],
      "execution_count": null,
      "outputs": []
    },
    {
      "cell_type": "code",
      "metadata": {
        "source_hash": null,
        "output_cleared": true,
        "execution_start": 1697056105196,
        "execution_millis": 548,
        "deepnote_to_be_reexecuted": false,
        "cell_id": "cecb630759fb46968dbb3f716a20f2f9",
        "deepnote_cell_type": "code",
        "id": "iRiM7VwnWP1F"
      },
      "source": [
        "# Define and display confusion matrix\n",
        "def plot_confusion_matrix(y_test, y_pred, labels):\n",
        "    cm = confusion_matrix(y_test, y_pred, labels=labels)\n",
        "    disp = ConfusionMatrixDisplay(confusion_matrix=cm, display_labels=labels)\n",
        "    fig, ax = plt.subplots(figsize=(6,6))\n",
        "    plt.rcParams.update({'font.size':13, 'font.monospace':'Computer Modern Typewriter'})\n",
        "    disp.plot(ax=ax, cmap = \"binary\", colorbar=False)\n",
        "\n",
        "plot_confusion_matrix(y_test_classes, y_pred_classes,   labels=label_encoder.classes_)"
      ],
      "execution_count": null,
      "outputs": []
    }
  ],
  "nbformat": 4,
  "nbformat_minor": 0,
  "metadata": {
    "deepnote": {},
    "orig_nbformat": 2,
    "deepnote_notebook_id": "bac33be2788a44f2b447d0065cf7c059",
    "deepnote_execution_queue": [],
    "colab": {
      "provenance": []
    }
  }
}