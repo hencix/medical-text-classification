{
  "cells": [
    {
      "cell_type": "markdown",
      "metadata": {
        "formattedRanges": [],
        "cell_id": "13f1c22316d542f59908a877f0e6c2a2",
        "deepnote_cell_type": "text-cell-h2",
        "id": "FDGnOce-Xnsy"
      },
      "source": [
        "## CNN - clinical W2V"
      ]
    },
    {
      "cell_type": "code",
      "metadata": {
        "source_hash": null,
        "output_cleared": true,
        "execution_start": 1697120952574,
        "execution_millis": 4925677,
        "deepnote_to_be_reexecuted": false,
        "cell_id": "cc259b89e7e14436bdb7d19075a9b435",
        "deepnote_cell_type": "code",
        "id": "EF46uJI9Xns6"
      },
      "source": [
        "# Import the necessary libraries\n",
        "import numpy as np\n",
        "import pandas as pd\n",
        "from gensim.models import Word2Vec\n",
        "from keras.models import Sequential\n",
        "from keras.layers import Conv1D, GlobalMaxPooling1D, Dense, Embedding, AveragePooling1D, GlobalAveragePooling1D, Dropout\n",
        "from sklearn.model_selection import train_test_split\n",
        "from sklearn.preprocessing import LabelEncoder\n",
        "from keras.preprocessing.text import Tokenizer\n",
        "from keras_preprocessing.sequence import pad_sequences\n",
        "from sklearn.model_selection import GridSearchCV\n",
        "from keras.wrappers.scikit_learn import KerasClassifier\n",
        "from keras.callbacks import EarlyStopping, ModelCheckpoint\n",
        "from sklearn.metrics import accuracy_score, classification_report, ConfusionMatrixDisplay, confusion_matrix\n",
        "import matplotlib.pyplot as plt"
      ],
      "execution_count": null,
      "outputs": []
    },
    {
      "cell_type": "code",
      "metadata": {
        "output_cleared": true,
        "cell_id": "22d291034a654259a70d9232e6350ee7",
        "deepnote_cell_type": "code",
        "id": "mbD399_iXns-"
      },
      "source": [
        "# Load your clinical word embeddings\n",
        "w2vmodel = Word2Vec.load('/work/-20230803-094000/W2V_300/w2v_OA_CR_300d.bin')"
      ],
      "execution_count": null,
      "outputs": []
    },
    {
      "cell_type": "code",
      "metadata": {
        "output_cleared": true,
        "cell_id": "bb3e0d00d12149109f80ac97df41556b",
        "deepnote_cell_type": "code",
        "id": "W6ARpwR0Xns_"
      },
      "source": [
        "# Load the dataset\n",
        "data = pd.read_csv('balanced.csv')"
      ],
      "execution_count": null,
      "outputs": []
    },
    {
      "cell_type": "code",
      "metadata": {
        "output_cleared": true,
        "cell_id": "19c6c6676dcb4b329e739a8e86a4efcb",
        "deepnote_cell_type": "code",
        "id": "QCjtPHebXntA"
      },
      "source": [
        "# Turn label into discrete variable\n",
        "label_encoder = LabelEncoder()\n",
        "data['condition_label'] = label_encoder.fit_transform(data['condition_label'])"
      ],
      "execution_count": null,
      "outputs": []
    },
    {
      "cell_type": "code",
      "metadata": {
        "output_cleared": true,
        "cell_id": "191d15f620604c5bb57a2c978e0a7784",
        "deepnote_cell_type": "code",
        "id": "3fQOBw-uXntB"
      },
      "source": [
        "# Tokenize the text and pad to fixed length\n",
        "tokenizer = Tokenizer()\n",
        "tokenizer.fit_on_texts(data['clean_text'])\n",
        "sequences = tokenizer.texts_to_sequences(data['clean_text'])\n",
        "\n",
        "max_sequence_length = 250\n",
        "X_padded = pad_sequences(sequences, maxlen=max_sequence_length)"
      ],
      "execution_count": null,
      "outputs": []
    },
    {
      "cell_type": "code",
      "metadata": {
        "output_cleared": true,
        "cell_id": "50317918cf5646e5867692f205f47e6e",
        "deepnote_cell_type": "code",
        "id": "YEU2V_RcXntE"
      },
      "source": [
        "# Create an embedding matrix using the clinical word embeddings\n",
        "embedding_dim = 300\n",
        "word_index = tokenizer.word_index\n",
        "num_words = min(len(word_index) + 1, len(w2vmodel.wv))\n",
        "embedding_matrix = np.zeros((num_words, embedding_dim))\n",
        "for word, i in word_index.items():\n",
        "    if i >= num_words:\n",
        "        continue\n",
        "    if word in w2vmodel.wv.key_to_index:\n",
        "        embedding_matrix[i] = w2vmodel.wv.get_vector(word)"
      ],
      "execution_count": null,
      "outputs": []
    },
    {
      "cell_type": "code",
      "metadata": {
        "output_cleared": true,
        "cell_id": "745bae135f2f4341b89a27fc050a96b6",
        "deepnote_cell_type": "code",
        "id": "lwUEk0TaXntG"
      },
      "source": [
        "# Split data into training and testing sets\n",
        "X_train, X_test, y_train, y_test = train_test_split(X_padded, data['condition_label'], test_size=0.2, random_state=12)"
      ],
      "execution_count": null,
      "outputs": []
    },
    {
      "cell_type": "code",
      "metadata": {
        "output_cleared": true,
        "cell_id": "76b83e3aacdc44be916c7feb6d968f5f",
        "deepnote_cell_type": "code",
        "id": "sSFk0yelXntM"
      },
      "source": [
        "# Define CNN model\n",
        "def create_model(embedding_dim=300, filters=128, kernel_size=5, dense_units=128, dropout_rate=0.5):\n",
        "    model = Sequential()\n",
        "    model.add(Embedding(input_dim=num_words, output_dim=embedding_dim, weights=[embedding_matrix], input_length=max_sequence_length, trainable=False))\n",
        "    model.add(Conv1D(filters, kernel_size, activation='relu'))\n",
        "    model.add(GlobalAveragePooling1D())\n",
        "    model.add(Dense(dense_units, activation='relu'))\n",
        "    model.add(Dropout(dropout_rate))\n",
        "    model.add(Dense(4, activation='softmax'))\n",
        "    model.compile(optimizer='adam', loss='sparse_categorical_crossentropy', metrics=['accuracy'])\n",
        "    return model\n",
        "\n",
        "model = KerasClassifier(build_fn=create_model, verbose=0)"
      ],
      "execution_count": null,
      "outputs": []
    },
    {
      "cell_type": "code",
      "metadata": {
        "output_cleared": true,
        "cell_id": "408a16ec00c4461ca20bbb5045df2dee",
        "deepnote_cell_type": "code",
        "id": "Tu1nG01tXntO"
      },
      "source": [
        "# Define the hyperparameter grid to search\n",
        "param_grid = {\n",
        "    'filters': [64, 128, 256],\n",
        "    'kernel_size' : [3, 5, 7],\n",
        "    'dense_units': [64, 128, 256],\n",
        "    'dropout_rate': [0.3, 0.5, 0.7]\n",
        "}"
      ],
      "execution_count": null,
      "outputs": []
    },
    {
      "cell_type": "code",
      "metadata": {
        "output_cleared": true,
        "cell_id": "056f14eb4b2f46db9f8fc24c989938e2",
        "deepnote_cell_type": "code",
        "id": "33ICeOcRXntP"
      },
      "source": [
        "# Use GridSearchCV to define best hyperparameters\n",
        "es = EarlyStopping(monitor='val_loss', mode='min', verbose=1, patience=3)\n",
        "mc = ModelCheckpoint('best_model.h5', monitor='val_accuracy', mode='max', save_best_only=True, verbose=1)\n",
        "\n",
        "grid = GridSearchCV(estimator=model, param_grid=param_grid, cv=3)\n",
        "grid_result = grid.fit(X_train, y_train, validation_split=0.1, callbacks=[es,mc])\n",
        "\n",
        "print(\"Best Parameters: \", grid_result.best_params_)\n",
        "print(\"Best Accuracy: \", grid_result.best_score_)"
      ],
      "execution_count": null,
      "outputs": []
    },
    {
      "cell_type": "code",
      "metadata": {
        "output_cleared": true,
        "cell_id": "65cda0cb2f304451ac1aadc68db6d321",
        "deepnote_cell_type": "code",
        "id": "RBgklgFIXntQ"
      },
      "source": [
        "# Make predictions on the test data\n",
        "best_model = grid_result.best_estimator_.model\n",
        "loss, accuracy = best_model.evaluate(X_test, np.array(y_test))\n",
        "print(f\"Test Loss: {loss}, Test Accuracy: {accuracy}\")\n",
        "\n",
        "y_pred = best_model.predict(X_test[:, :, np.newaxis])\n",
        "y_pred_classes = np.argmax(y_pred, axis=1)\n",
        "\n",
        "y_test_classes = label_encoder.inverse_transform(y_test)\n",
        "y_pred_classes = label_encoder.inverse_transform(y_pred_classes)"
      ],
      "execution_count": null,
      "outputs": []
    },
    {
      "cell_type": "code",
      "metadata": {
        "source_hash": null,
        "output_cleared": true,
        "execution_start": 1697125895825,
        "execution_millis": 28,
        "deepnote_to_be_reexecuted": false,
        "cell_id": "8b8a25a932334650b38d520eb145571d",
        "deepnote_cell_type": "code",
        "id": "voW7l7feXntR"
      },
      "source": [
        "# Generate and print classification report for the best model\n",
        "print(\"Classification Report:\")\n",
        "\n",
        "print(classification_report(y_test_classes, y_pred_classes))"
      ],
      "execution_count": null,
      "outputs": []
    },
    {
      "cell_type": "code",
      "metadata": {
        "source_hash": null,
        "output_cleared": true,
        "execution_start": 1697127151003,
        "execution_millis": 549,
        "deepnote_to_be_reexecuted": false,
        "cell_id": "6c0539f9e7e04547b02254d5dca69d62",
        "deepnote_cell_type": "code",
        "id": "XhJsCcS0XntS"
      },
      "source": [
        "# Define and display confusion matrix\n",
        "def plot_confusion_matrix(y_test, y_pred, labels):\n",
        "    cm = confusion_matrix(y_test, y_pred, labels=labels)\n",
        "    disp = ConfusionMatrixDisplay(confusion_matrix=cm, display_labels=labels)\n",
        "    fig, ax = plt.subplots(figsize=(6,6))\n",
        "    plt.rcParams.update({'font.size':13, 'font.monospace':'Computer Modern Typewriter'})\n",
        "    disp.plot(ax=ax, cmap = \"binary\", colorbar=False)\n",
        "\n",
        "plot_confusion_matrix(y_test_classes, y_pred_classes,   labels=label_encoder.classes_)"
      ],
      "execution_count": null,
      "outputs": []
    }
  ],
  "nbformat": 4,
  "nbformat_minor": 0,
  "metadata": {
    "deepnote": {},
    "orig_nbformat": 2,
    "deepnote_notebook_id": "f41ac647725f4fc08cf556f90a887ea5",
    "deepnote_execution_queue": [],
    "colab": {
      "provenance": []
    }
  }
}