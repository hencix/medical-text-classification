{
  "cells": [
    {
      "cell_type": "markdown",
      "metadata": {
        "formattedRanges": [],
        "cell_id": "9061456b47114d23957a089a8b1edb57",
        "deepnote_cell_type": "text-cell-h2",
        "id": "baicOTwCU6B2"
      },
      "source": [
        "## Naive Bayes - Word Embeddings model"
      ]
    },
    {
      "cell_type": "code",
      "metadata": {
        "source_hash": null,
        "output_cleared": true,
        "execution_start": 1696349019389,
        "execution_millis": 1838,
        "deepnote_to_be_reexecuted": false,
        "cell_id": "6a4d1188b47b42af9dda74380f443ebf",
        "deepnote_cell_type": "code",
        "id": "2KPv1tNBU6B5"
      },
      "source": [
        "# Import the necessary libraries\n",
        "import pandas as pd\n",
        "import numpy as np\n",
        "from sklearn.model_selection import train_test_split\n",
        "from sklearn.naive_bayes import MultinomialNB, GaussianNB\n",
        "from sklearn.metrics import accuracy_score, classification_report, confusion_matrix, ConfusionMatrixDisplay\n",
        "import matplotlib.pyplot as plt\n",
        "from sklearn.preprocessing import MinMaxScaler"
      ],
      "execution_count": null,
      "outputs": []
    },
    {
      "cell_type": "code",
      "metadata": {
        "source_hash": null,
        "output_cleared": true,
        "execution_start": 1696349022132,
        "execution_millis": 23958,
        "deepnote_to_be_reexecuted": false,
        "cell_id": "de693814d69a4e97a4b8bea3b862da32",
        "deepnote_cell_type": "code",
        "id": "TLa0gKWCU6B7"
      },
      "source": [
        "# Load the pre-trained GloVe embeddings\n",
        "glove_file = \"glove.6B.200d.txt\"\n",
        "word_embeddings = {}\n",
        "with open(glove_file, \"r\", encoding=\"utf-8\") as f:\n",
        "    for line in f:\n",
        "        values = line.split()\n",
        "        word = values[0]\n",
        "        embedding = np.array(values[1:], dtype=\"float32\")\n",
        "        word_embeddings[word] = embedding"
      ],
      "execution_count": null,
      "outputs": []
    },
    {
      "cell_type": "code",
      "metadata": {
        "source_hash": null,
        "output_cleared": true,
        "execution_start": 1696349047942,
        "execution_millis": 167,
        "deepnote_to_be_reexecuted": false,
        "cell_id": "13aecf6cc24d4238838f2da5e5e9882e",
        "deepnote_cell_type": "code",
        "id": "msfzqdQ_U6B8"
      },
      "source": [
        "# Load the dataset\n",
        "data = pd.read_csv(\"balanced.csv\")"
      ],
      "execution_count": null,
      "outputs": []
    },
    {
      "cell_type": "code",
      "metadata": {
        "source_hash": null,
        "output_cleared": true,
        "execution_start": 1696349176093,
        "execution_millis": 9,
        "deepnote_to_be_reexecuted": false,
        "cell_id": "4fd04a0a48f640bb980df59e75b21585",
        "deepnote_cell_type": "code",
        "id": "CpMrU_f4U6B9"
      },
      "source": [
        "# Define variables\n",
        "X = data['clean_text']\n",
        "y = data['condition_label']"
      ],
      "execution_count": null,
      "outputs": []
    },
    {
      "cell_type": "code",
      "metadata": {
        "source_hash": null,
        "output_cleared": true,
        "execution_start": 1696349176630,
        "execution_millis": 9420,
        "deepnote_to_be_reexecuted": false,
        "cell_id": "03cf64be0e42488c8b24b086702b1493",
        "deepnote_cell_type": "code",
        "id": "0d9NvegAU6B-"
      },
      "source": [
        "# Convert a sentence into a feature vector using GloVe embeddings\n",
        "def sentence_to_vector(words):\n",
        "    vectors = [word_embeddings[word] for word in words if word in word_embeddings]\n",
        "    return np.mean(vectors, axis=0) if vectors else np.zeros(200)\n",
        "\n",
        "X = np.array([sentence_to_vector(words) for words in X])"
      ],
      "execution_count": null,
      "outputs": []
    },
    {
      "cell_type": "code",
      "metadata": {
        "source_hash": null,
        "output_cleared": true,
        "execution_start": 1696349188046,
        "execution_millis": 46,
        "deepnote_to_be_reexecuted": false,
        "cell_id": "51db7227915e4e498adce73d101bcadc",
        "deepnote_cell_type": "code",
        "id": "CnlUYLuEU6B_"
      },
      "source": [
        "# Scale and transform variables\n",
        "scaler = MinMaxScaler()\n",
        "X = scaler.fit_transform(X)\n",
        "y = np.array(y)"
      ],
      "execution_count": null,
      "outputs": []
    },
    {
      "cell_type": "code",
      "metadata": {
        "source_hash": null,
        "output_cleared": true,
        "execution_start": 1696349189331,
        "execution_millis": 18,
        "deepnote_to_be_reexecuted": false,
        "cell_id": "f28e15423cf44eb98f1d64f5a8b1d1e3",
        "deepnote_cell_type": "code",
        "id": "TSkK7KvPU6CA"
      },
      "source": [
        "# Split data into training and testing sets\n",
        "X_train, X_test, y_train, y_test = train_test_split(X, y, test_size=0.2, random_state=12)"
      ],
      "execution_count": null,
      "outputs": []
    },
    {
      "cell_type": "code",
      "metadata": {
        "source_hash": null,
        "output_cleared": true,
        "execution_start": 1696349190284,
        "execution_millis": 230,
        "deepnote_to_be_reexecuted": false,
        "cell_id": "ff938f8ac1d042f788c65eec56e44bb3",
        "deepnote_cell_type": "code",
        "id": "I40BeBESU6CB"
      },
      "source": [
        "# Train Naive Bayes classifier\n",
        "classifier = GaussianNB()\n",
        "classifier.fit(X_train, y_train)"
      ],
      "execution_count": null,
      "outputs": []
    },
    {
      "cell_type": "code",
      "metadata": {
        "source_hash": null,
        "output_cleared": true,
        "execution_start": 1696349191398,
        "execution_millis": 21,
        "deepnote_to_be_reexecuted": false,
        "cell_id": "f58b20584c7c41a7a1ca0617718d2533",
        "deepnote_cell_type": "code",
        "id": "fpom5ZYZU6CD"
      },
      "source": [
        "# Make predictions on the test data\n",
        "y_pred = classifier.predict(X_test)"
      ],
      "execution_count": null,
      "outputs": []
    },
    {
      "cell_type": "code",
      "metadata": {
        "source_hash": null,
        "output_cleared": true,
        "execution_start": 1696349192542,
        "execution_millis": 16,
        "deepnote_to_be_reexecuted": false,
        "cell_id": "bf3d502f92b54a24a097e6ac297d060b",
        "deepnote_cell_type": "code",
        "id": "QQy2RiqzU6CE"
      },
      "source": [
        "# Calculate accuracy\n",
        "accuracy = accuracy_score(y_test, y_pred)\n",
        "print(f\"Accuracy: {accuracy:.5f}\")"
      ],
      "execution_count": null,
      "outputs": []
    },
    {
      "cell_type": "code",
      "metadata": {
        "source_hash": null,
        "output_cleared": true,
        "execution_start": 1696349193972,
        "execution_millis": 88,
        "deepnote_to_be_reexecuted": false,
        "cell_id": "44dfe4064bc44d8dbb072a1b02227cb5",
        "deepnote_cell_type": "code",
        "id": "_nRVqoEzU6CF"
      },
      "source": [
        "# Print classification report\n",
        "print(classification_report(y_test, y_pred))"
      ],
      "execution_count": null,
      "outputs": []
    },
    {
      "cell_type": "code",
      "metadata": {
        "source_hash": null,
        "output_cleared": true,
        "execution_start": 1695991784828,
        "execution_millis": 794,
        "deepnote_to_be_reexecuted": false,
        "cell_id": "a3367905ed07471cb10e3a17a3c4d9ad",
        "deepnote_cell_type": "code",
        "id": "ZEvJZ0g2U6CG"
      },
      "source": [
        "# Define and display confusion matrix\n",
        "def plot_confusion_matrix(y_test, y_pred, labels):\n",
        "    cm = confusion_matrix(y_test, y_pred, labels=labels)\n",
        "    disp = ConfusionMatrixDisplay(confusion_matrix=cm, display_labels=labels)\n",
        "    fig, ax = plt.subplots(figsize=(6,6))\n",
        "    plt.rcParams.update({'font.size':13, 'font.monospace':'Computer Modern Typewriter'})\n",
        "    disp.plot(ax=ax, cmap = \"binary\", colorbar=False)\n",
        "\n",
        "plot_confusion_matrix(y_test, y_pred,   labels=classifier.classes_)"
      ],
      "execution_count": null,
      "outputs": []
    }
  ],
  "nbformat": 4,
  "nbformat_minor": 0,
  "metadata": {
    "deepnote": {},
    "orig_nbformat": 2,
    "deepnote_notebook_id": "877e02dc3e6c4cf5a0ebda5c513db9d3",
    "deepnote_execution_queue": [],
    "colab": {
      "provenance": []
    }
  }
}