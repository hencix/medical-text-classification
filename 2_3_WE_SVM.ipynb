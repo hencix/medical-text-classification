{
  "cells": [
    {
      "cell_type": "markdown",
      "metadata": {
        "formattedRanges": [],
        "cell_id": "2b38ec1fd5d14d319584adfa653d067f",
        "deepnote_cell_type": "text-cell-h2",
        "id": "mAkA_l8lZLod"
      },
      "source": [
        "## Support Vector Machines - Word Embeddings model"
      ]
    },
    {
      "cell_type": "code",
      "metadata": {
        "source_hash": null,
        "output_cleared": true,
        "execution_start": 1696340609951,
        "execution_millis": 14948,
        "deepnote_to_be_reexecuted": false,
        "cell_id": "637e8a31ff1e43409d85201159ced1ed",
        "deepnote_cell_type": "code",
        "id": "KPGoXoygZLof"
      },
      "source": [
        "out# Import the necessary libraries\n",
        "import pandas as pd\n",
        "import numpy as np\n",
        "from sklearn.model_selection import train_test_split, GridSearchCV\n",
        "from sklearn.svm import SVC\n",
        "from sklearn.metrics import accuracy_score, classification_report, confusion_matrix, ConfusionMatrixDisplay\n",
        "import matplotlib.pyplot as plt"
      ],
      "execution_count": null,
      "outputs": []
    },
    {
      "cell_type": "code",
      "metadata": {
        "output_cleared": true,
        "cell_id": "65ef466945264c7395e4edf70d56123b",
        "deepnote_cell_type": "code",
        "id": "exI1p_JyZLoh"
      },
      "source": [
        "# Load the pre-trained GloVe embeddings\n",
        "glove_file = \"glove.6B.200d.txt\"\n",
        "word_embeddings = {}\n",
        "with open(glove_file, \"r\", encoding=\"utf-8\") as f:\n",
        "    for line in f:\n",
        "        values = line.split()\n",
        "        word = values[0]\n",
        "        embedding = np.array(values[1:], dtype=\"float32\")\n",
        "        word_embeddings[word] = embedding"
      ],
      "execution_count": null,
      "outputs": []
    },
    {
      "cell_type": "code",
      "metadata": {
        "output_cleared": true,
        "cell_id": "d450f0a2f5404a838c4905547cd53a59",
        "deepnote_cell_type": "code",
        "id": "lQ9-1YItZLoj"
      },
      "source": [
        "# Load the dataset\n",
        "data = pd.read_csv(\"balanced.csv\")"
      ],
      "execution_count": null,
      "outputs": []
    },
    {
      "cell_type": "code",
      "metadata": {
        "output_cleared": true,
        "cell_id": "8da3f2cf9b9a4bc2a994594bdc6b21de",
        "deepnote_cell_type": "code",
        "id": "kxydDr2AZLoj"
      },
      "source": [
        "# Define variables\n",
        "X = data['clean_text']\n",
        "y = data['condition_label']"
      ],
      "execution_count": null,
      "outputs": []
    },
    {
      "cell_type": "code",
      "metadata": {
        "output_cleared": true,
        "cell_id": "c3715820f0cf49ada2925d87dc66b927",
        "deepnote_cell_type": "code",
        "id": "aFsr6VVxZLok"
      },
      "source": [
        "# Convert a sentence into a feature vector using GloVe embeddings\n",
        "def sentence_to_vector(words):\n",
        "    vectors = [word_embeddings[word] for word in words if word in word_embeddings]\n",
        "    return np.mean(vectors, axis=0) if vectors else np.zeros(200)\n",
        "\n",
        "X = np.array([sentence_to_vector(words) for words in X])\n",
        "y = np.array(y)"
      ],
      "execution_count": null,
      "outputs": []
    },
    {
      "cell_type": "code",
      "metadata": {
        "output_cleared": true,
        "cell_id": "8d9d20699936401fbb66c64aa15be1f8",
        "deepnote_cell_type": "code",
        "id": "TSDCQQhpZLom"
      },
      "source": [
        "# Split the data into training and testing sets\n",
        "X_train, X_test, y_train, y_test = train_test_split(X, y, test_size=0.2, random_state=12)"
      ],
      "execution_count": null,
      "outputs": []
    },
    {
      "cell_type": "code",
      "metadata": {
        "source_hash": null,
        "output_cleared": true,
        "execution_start": 1696340668691,
        "execution_millis": 11927,
        "deepnote_to_be_reexecuted": false,
        "cell_id": "d65b231b4cfa4ec3826ff4a5d321cdad",
        "deepnote_cell_type": "code",
        "id": "ZTF7O-N6ZLon"
      },
      "source": [
        "# Define the hyperparameter grid for SVM\n",
        "param_grid = {\n",
        "    'kernel': ['linear', 'rbf', 'sigmoid'],\n",
        "    'C': [0.1, 1, 10, 100],\n",
        "    'gamma': ['scale', 'auto', 0.1, 0.01, 0.001],\n",
        "}"
      ],
      "execution_count": null,
      "outputs": []
    },
    {
      "cell_type": "code",
      "metadata": {
        "output_cleared": true,
        "cell_id": "c49e98ce07a84290a73db9005c3d2711",
        "deepnote_cell_type": "code",
        "id": "Ks7RtDN_ZLop"
      },
      "source": [
        "# Use GridSearchCV to define best hyperparameters\n",
        "svm_classifier = SVC()\n",
        "\n",
        "grid_search = GridSearchCV(svm_classifier, param_grid, cv=5, n_jobs=-1, verbose=1)\n",
        "grid_search.fit(X_train, y_train)\n",
        "\n",
        "best_params = grid_search.best_params_\n",
        "best_svm_classifier = grid_search.best_estimator_\n",
        "\n",
        "print(\"Best Hyperparameters:\", best_params)"
      ],
      "execution_count": null,
      "outputs": []
    },
    {
      "cell_type": "code",
      "metadata": {
        "output_cleared": true,
        "cell_id": "5886aba920da4c3eb028f62a76b2a10c",
        "deepnote_cell_type": "code",
        "id": "wSlQz83hZLoq"
      },
      "source": [
        "# Make predictions on the test data\n",
        "y_pred = best_svm_classifier.predict(X_test)"
      ],
      "execution_count": null,
      "outputs": []
    },
    {
      "cell_type": "code",
      "metadata": {
        "output_cleared": true,
        "cell_id": "f6c80d647bb24af28e15d72e6a19fc45",
        "deepnote_cell_type": "code",
        "id": "bnEmgBPQZLoq"
      },
      "source": [
        "# Calculate accuracy and print classification report\n",
        "accuracy = accuracy_score(y_test, y_pred)\n",
        "print(f\"Accuracy: {accuracy:.5f}\")"
      ],
      "execution_count": null,
      "outputs": []
    },
    {
      "cell_type": "code",
      "metadata": {
        "output_cleared": true,
        "cell_id": "dffe041b089f4947a08e4e11b56a5f03",
        "deepnote_cell_type": "code",
        "id": "R3vtLDBRZLor"
      },
      "source": [
        "# Print classification report\n",
        "print(classification_report(y_test, y_pred))"
      ],
      "execution_count": null,
      "outputs": []
    },
    {
      "cell_type": "code",
      "metadata": {
        "source_hash": null,
        "output_cleared": true,
        "execution_start": 1696340755575,
        "execution_millis": 362,
        "deepnote_to_be_reexecuted": false,
        "cell_id": "5712b2eb1aab47b4bddce43a3162244d",
        "deepnote_cell_type": "code",
        "id": "GyetrPQtZLos"
      },
      "source": [
        "# Define and display confusion matrix\n",
        "def plot_confusion_matrix(y_test, y_pred, labels):\n",
        "    cm = confusion_matrix(y_test, y_pred, labels=labels)\n",
        "    disp = ConfusionMatrixDisplay(confusion_matrix=cm, display_labels=labels)\n",
        "    fig, ax = plt.subplots(figsize=(6,6))\n",
        "    plt.rcParams.update({'font.size':13, 'font.monospace':'Computer Modern Typewriter'})\n",
        "    disp.plot(ax=ax, cmap = \"binary\", colorbar=False)\n",
        "\n",
        "plot_confusion_matrix(y_test, y_pred,   labels=best_svm_classifier.classes_)"
      ],
      "execution_count": null,
      "outputs": []
    }
  ],
  "nbformat": 4,
  "nbformat_minor": 0,
  "metadata": {
    "deepnote": {},
    "orig_nbformat": 2,
    "deepnote_notebook_id": "9430d215995f4844866e9003115991b0",
    "deepnote_execution_queue": [],
    "colab": {
      "provenance": []
    }
  }
}