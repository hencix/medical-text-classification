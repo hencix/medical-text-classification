{
  "cells": [
    {
      "cell_type": "markdown",
      "metadata": {
        "cell_id": "09f3debbefd14db280317cd25af24571",
        "deepnote_cell_type": "markdown",
        "id": "Y5WA41ERTUCS"
      },
      "source": [
        "# Text preprocessing"
      ]
    },
    {
      "cell_type": "code",
      "metadata": {
        "source_hash": null,
        "output_cleared": true,
        "execution_start": 1696347223800,
        "execution_millis": 3877,
        "deepnote_to_be_reexecuted": false,
        "cell_id": "4c29825b670346b2b41fef641b060790",
        "deepnote_cell_type": "code",
        "id": "rpnP062LTUCZ"
      },
      "source": [
        "# Importing necessary packages\n",
        "import pandas as pd\n",
        "import numpy as np\n",
        "import re, string\n",
        "import nltk\n",
        "from nltk.tokenize import word_tokenize\n",
        "from nltk.corpus import stopwords\n",
        "from nltk.tokenize import word_tokenize\n",
        "from nltk.stem import SnowballStemmer\n",
        "from nltk.corpus import wordnet\n",
        "from nltk.stem import WordNetLemmatizer\n",
        "\n",
        "nltk.download('punkt')\n",
        "nltk.download('averaged_perceptron_tagger')\n",
        "nltk.download('wordnet')\n",
        "nltk.download('stopwords')\n",
        "nltk.download('omw-1.4')\n",
        "\n",
        "from imblearn.under_sampling import RandomUnderSampler\n",
        "\n",
        "import matplotlib.pyplot as plt\n",
        "from wordcloud import WordCloud"
      ],
      "execution_count": null,
      "outputs": []
    },
    {
      "cell_type": "code",
      "metadata": {
        "source_hash": null,
        "output_cleared": true,
        "execution_start": 1696347227682,
        "execution_millis": 240,
        "deepnote_to_be_reexecuted": false,
        "cell_id": "67abe99d2b2a44e2a1151ab5f67296db",
        "deepnote_cell_type": "code",
        "id": "pdhZA8A-TUCg"
      },
      "source": [
        "# Reading in the data\n",
        "data1 = pd.read_csv(\"medical_tc_train.csv\")\n",
        "data2 = pd.read_csv(\"medical_tc_test.csv\")\n",
        "\n",
        "data = pd.concat([data1,data2])"
      ],
      "execution_count": null,
      "outputs": []
    },
    {
      "cell_type": "code",
      "metadata": {
        "source_hash": null,
        "output_cleared": true,
        "execution_start": 1696347227928,
        "execution_millis": 22,
        "deepnote_to_be_reexecuted": false,
        "cell_id": "6be6d7454c7a43a19ddab65be67d6444",
        "deepnote_cell_type": "code",
        "id": "3WXmVLONTUCh"
      },
      "source": [
        "# Checking for any NAs\n",
        "data.isna().sum()"
      ],
      "execution_count": null,
      "outputs": []
    },
    {
      "cell_type": "code",
      "metadata": {
        "source_hash": null,
        "output_cleared": true,
        "execution_start": 1696347227974,
        "execution_millis": 28,
        "deepnote_to_be_reexecuted": false,
        "cell_id": "440e91262a2e49858e6b2ebc0d964d13",
        "deepnote_cell_type": "code",
        "id": "qjG6UbxHTUCj"
      },
      "source": [
        "# Checking class distribution - unbalanced\n",
        "data['condition_label'].value_counts()"
      ],
      "execution_count": null,
      "outputs": []
    },
    {
      "cell_type": "code",
      "metadata": {
        "source_hash": null,
        "output_cleared": true,
        "execution_start": 1695984895004,
        "execution_millis": 254,
        "deepnote_to_be_reexecuted": false,
        "cell_id": "1c776c7e77d44ec69c2439848b769ac5",
        "deepnote_cell_type": "code",
        "id": "WRze45H5TUCk"
      },
      "source": [
        "# Checking average word count in the classes\n",
        "data['word_count'] = data['medical_abstract'].apply(lambda x: len(str(x).split()))\n",
        "print(data[data['condition_label']==1]['word_count'].mean())\n",
        "print(data[data['condition_label']==2]['word_count'].mean())\n",
        "print(data[data['condition_label']==3]['word_count'].mean())\n",
        "print(data[data['condition_label']==4]['word_count'].mean())\n",
        "print(data[data['condition_label']==5]['word_count'].mean())"
      ],
      "execution_count": null,
      "outputs": []
    },
    {
      "cell_type": "code",
      "metadata": {
        "source_hash": null,
        "output_cleared": true,
        "execution_start": 1695984895230,
        "execution_millis": 74,
        "deepnote_to_be_reexecuted": false,
        "cell_id": "daf8e33a601e468988bf0df52033e299",
        "deepnote_cell_type": "code",
        "id": "cT5l4xajTUCm"
      },
      "source": [
        "# Define functions for preprocessing\n",
        "def preprocess(text):\n",
        "    text = text.lower() #lowercase\n",
        "    text=text.strip()  #remove leading or following whitespace\n",
        "    text = re.compile('[%s]' % re.escape(string.punctuation)).sub(' ', text)  #remove punctuation\n",
        "    text=re.sub(r'[^\\w\\s]', '', str(text).lower().strip()) # remove special characters\n",
        "    text = re.sub(r'\\d',' ',text) # remove numbers\n",
        "    text = re.sub(r'\\s+',' ',text) # normalize spacing\n",
        "    return text\n",
        "\n",
        "\n",
        "# Removing stopwords\n",
        "def stopword(string):\n",
        "    a= [i for i in string.split() if i not in stopwords.words('english')]\n",
        "    return ' '.join(a)\n",
        "\n",
        "# Lemmatization\n",
        "wl = WordNetLemmatizer()\n",
        "\n",
        "def get_wordnet_pos(tag):\n",
        "    if tag.startswith('J'):\n",
        "        return wordnet.ADJ\n",
        "    elif tag.startswith('V'):\n",
        "        return wordnet.VERB\n",
        "    elif tag.startswith('N'):\n",
        "        return wordnet.NOUN\n",
        "    elif tag.startswith('R'):\n",
        "        return wordnet.ADV\n",
        "    else:\n",
        "        return wordnet.NOUN\n",
        "\n",
        "# Tokenize the sentence\n",
        "def lemmatizer(string):\n",
        "    word_pos_tags = nltk.pos_tag(word_tokenize(string)) # position tags\n",
        "    a=[wl.lemmatize(tag[0], get_wordnet_pos(tag[1])) for idx, tag in enumerate(word_pos_tags)] # map the position tag and lemmatize the word/token\n",
        "    return \" \".join(a)"
      ],
      "execution_count": null,
      "outputs": []
    },
    {
      "cell_type": "code",
      "metadata": {
        "source_hash": null,
        "output_cleared": true,
        "execution_start": 1695984895257,
        "execution_millis": 50,
        "deepnote_to_be_reexecuted": false,
        "cell_id": "503b07ab30434feea7c73395a4207798",
        "deepnote_cell_type": "code",
        "id": "Duuz8nIBTUCo"
      },
      "source": [
        "def finalpreprocess(string):\n",
        "    return lemmatizer(stopword(preprocess(string)))"
      ],
      "execution_count": null,
      "outputs": []
    },
    {
      "cell_type": "code",
      "metadata": {
        "source_hash": null,
        "output_cleared": true,
        "execution_start": 1695984895278,
        "execution_millis": 639079,
        "deepnote_to_be_reexecuted": false,
        "cell_id": "7c83483eabbf4df784745cc23a4b9e11",
        "deepnote_cell_type": "code",
        "id": "AFUN6z--TUCp"
      },
      "source": [
        "# Apply preprocessing to the dataset\n",
        "data['clean_text'] = data['medical_abstract'].apply(lambda x: finalpreprocess(x))\n",
        "data['word_list'] = data['clean_text'].apply(lambda x: x.split())"
      ],
      "execution_count": null,
      "outputs": []
    },
    {
      "cell_type": "code",
      "metadata": {
        "source_hash": null,
        "output_cleared": true,
        "execution_start": 1695985691994,
        "execution_millis": 90,
        "deepnote_to_be_reexecuted": false,
        "cell_id": "3ffc4e5369b2440397c0f97cffd8463d",
        "deepnote_cell_type": "code",
        "id": "SBvR0JJYTUCq"
      },
      "source": [
        "# Perform undersampling\n",
        "X = data['clean_text']\n",
        "y = data['condition_label']\n",
        "\n",
        "X_resampled, y_resampled = RandomUnderSampler(random_state=11).fit_resample(X.values.reshape(-1, 1), y)\n",
        "\n",
        "df_resampled = pd.DataFrame({'clean_text': X_resampled.flatten(), 'condition_label': y_resampled})\n",
        "\n",
        "df_resampled['condition_label'].value_counts()\n",
        "df_resampled['word_list'] = df_resampled['clean_text'].apply(lambda x: x.split())"
      ],
      "execution_count": null,
      "outputs": []
    },
    {
      "cell_type": "code",
      "metadata": {
        "output_cleared": true,
        "cell_id": "05de928cc7f442c18b5b0ff8dbe8edb9",
        "deepnote_cell_type": "code",
        "id": "mfVbnrooTUCr"
      },
      "source": [
        "# Remove general column for better classification\n",
        "df_resampled = df_resampled[df_resampled[\"condition_label\"] != 5]"
      ],
      "execution_count": null,
      "outputs": []
    },
    {
      "cell_type": "code",
      "metadata": {
        "source_hash": null,
        "output_cleared": true,
        "execution_start": 1695985699646,
        "execution_millis": 1886,
        "deepnote_to_be_reexecuted": false,
        "cell_id": "d6ef1660ace14f84ae52e31b0770c676",
        "deepnote_cell_type": "code",
        "id": "QD627SRVTUCs"
      },
      "source": [
        "# Save datasets\n",
        "data.to_csv('preprocessed.csv', index=False)\n",
        "df_resampled.to_csv('balanced.csv', index = False)"
      ],
      "execution_count": null,
      "outputs": []
    },
    {
      "cell_type": "code",
      "metadata": {
        "source_hash": null,
        "output_cleared": true,
        "execution_start": 1696347477083,
        "execution_millis": 158,
        "deepnote_to_be_reexecuted": false,
        "cell_id": "3458cef44ae345628a820bcd43c3b211",
        "deepnote_cell_type": "code",
        "id": "56QBpXKBTUCu"
      },
      "source": [
        "# Create word clouds for each class\n",
        "df_resampled = pd.read_csv('balanced.csv')\n",
        "\n",
        "cat1 = df_resampled[df_resampled[\"condition_label\"] == 1][\"clean_text\"]\n",
        "cat2 = df_resampled[df_resampled[\"condition_label\"] == 2][\"clean_text\"]\n",
        "cat3 = df_resampled[df_resampled[\"condition_label\"] == 3][\"clean_text\"]\n",
        "cat4 = df_resampled[df_resampled[\"condition_label\"] == 4][\"clean_text\"]\n",
        "cat5 = df_resampled[df_resampled[\"condition_label\"] == 5][\"clean_text\"]\n",
        "\n",
        "text1 = ' '.join(cat1)\n",
        "text2 = ' '.join(cat2)\n",
        "text3 = ' '.join(cat3)\n",
        "text4 = ' '.join(cat4)\n",
        "text5 = ' '.join(cat5)"
      ],
      "execution_count": null,
      "outputs": []
    },
    {
      "cell_type": "code",
      "metadata": {
        "source_hash": null,
        "output_cleared": true,
        "execution_start": 1696347483806,
        "execution_millis": 205,
        "deepnote_to_be_reexecuted": false,
        "cell_id": "82ee127b28ed4db2ae9ddc0dc2955a9f",
        "deepnote_cell_type": "code",
        "id": "AqxSJr5ZTUCw"
      },
      "source": [
        "# Color function for word clouds\n",
        "def custom_color_func(word, font_size, position, orientation, random_state=None, **kwargs):\n",
        "    grey_value = int(200 - (font_size / 125) * 200)\n",
        "    return f\"rgb({grey_value}, {grey_value}, {grey_value})\""
      ],
      "execution_count": null,
      "outputs": []
    },
    {
      "cell_type": "code",
      "metadata": {
        "source_hash": null,
        "output_cleared": true,
        "execution_start": 1696347485588,
        "execution_millis": 2747,
        "deepnote_to_be_reexecuted": false,
        "cell_id": "e25d7fda5d834691a8e69c10ff3aae6d",
        "deepnote_cell_type": "code",
        "id": "Z73uc_fETUCw"
      },
      "source": [
        "wordcloud1 = WordCloud(\n",
        "    font_path=\"/work/cmunrm.ttf\",\n",
        "    width=400,\n",
        "    height=400,\n",
        "    color_func=custom_color_func,\n",
        "    background_color='white',\n",
        "    max_font_size=125\n",
        ").generate(text1)\n",
        "\n",
        "plt.figure(figsize=(5, 5))\n",
        "plt.imshow(wordcloud1, interpolation='bilinear')\n",
        "plt.axis('off')\n",
        "plt.show()"
      ],
      "execution_count": null,
      "outputs": []
    },
    {
      "cell_type": "code",
      "metadata": {
        "allow_embed": false,
        "source_hash": null,
        "output_cleared": true,
        "execution_start": 1696347490121,
        "execution_millis": 2629,
        "deepnote_to_be_reexecuted": false,
        "cell_id": "2223f7dd792740cab3076884c931be4e",
        "deepnote_cell_type": "code",
        "id": "D9riZ9fTTUC0"
      },
      "source": [
        "wordcloud2 = WordCloud(\n",
        "    font_path=\"/work/cmunrm.ttf\",\n",
        "    width=400,\n",
        "    height=400,\n",
        "    color_func=custom_color_func,\n",
        "    background_color='white',\n",
        "    max_font_size=125\n",
        ").generate(text2)\n",
        "\n",
        "plt.figure(figsize=(5, 5))\n",
        "plt.imshow(wordcloud2, interpolation='bilinear')\n",
        "plt.axis('off')\n",
        "plt.show()"
      ],
      "execution_count": null,
      "outputs": []
    },
    {
      "cell_type": "code",
      "metadata": {
        "allow_embed": false,
        "source_hash": null,
        "output_cleared": true,
        "execution_start": 1696347494256,
        "execution_millis": 2404,
        "deepnote_to_be_reexecuted": false,
        "cell_id": "1f5b7257c0cd4c418271f36ff9e3af6f",
        "deepnote_cell_type": "code",
        "id": "on9G4F1STUC8"
      },
      "source": [
        "wordcloud3 = WordCloud(\n",
        "    font_path=\"/work/cmunrm.ttf\",\n",
        "    width=400,\n",
        "    height=400,\n",
        "    color_func=custom_color_func,\n",
        "    background_color='white',\n",
        "    max_font_size=125\n",
        ").generate(text3)\n",
        "\n",
        "plt.figure(figsize=(5, 5))\n",
        "plt.imshow(wordcloud3, interpolation='bilinear')\n",
        "plt.axis('off')\n",
        "plt.show()"
      ],
      "execution_count": null,
      "outputs": []
    },
    {
      "cell_type": "code",
      "metadata": {
        "allow_embed": false,
        "source_hash": null,
        "output_cleared": true,
        "execution_start": 1696347513435,
        "execution_millis": 2725,
        "deepnote_to_be_reexecuted": false,
        "cell_id": "d171bd727a7e4c85818b5fd494276c1a",
        "deepnote_cell_type": "code",
        "id": "biAJlV8uTUC9"
      },
      "source": [
        "wordcloud4 = WordCloud(\n",
        "    font_path=\"/work/cmunrm.ttf\",\n",
        "    width=400,\n",
        "    height=400,\n",
        "    color_func=custom_color_func,\n",
        "    background_color='white',\n",
        "    max_font_size=125\n",
        ").generate(text4)\n",
        "\n",
        "plt.figure(figsize=(5, 5))\n",
        "plt.imshow(wordcloud4, interpolation='bilinear')\n",
        "plt.axis('off')\n",
        "plt.show()"
      ],
      "execution_count": null,
      "outputs": []
    }
  ],
  "nbformat": 4,
  "nbformat_minor": 0,
  "metadata": {
    "deepnote": {},
    "kernelspec": {
      "name": "python3",
      "language": "python",
      "display_name": "Python 3"
    },
    "language_info": {
      "name": "python",
      "version": "3.8.5",
      "mimetype": "text/x-python",
      "file_extension": ".py",
      "pygments_lexer": "ipython3",
      "codemirror_mode": {
        "name": "ipython",
        "version": 3
      },
      "nbconvert_exporter": "python"
    },
    "deepnote_notebook_id": "c7c36e10644b4beeb31f415b0d539d2e",
    "deepnote_execution_queue": [],
    "colab": {
      "provenance": []
    }
  }
}
