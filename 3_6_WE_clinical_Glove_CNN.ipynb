{
  "cells": [
    {
      "cell_type": "markdown",
      "metadata": {
        "formattedRanges": [],
        "cell_id": "c76d5c5ed266491e927ddcbc73b8fb6e",
        "deepnote_cell_type": "text-cell-h2",
        "id": "7iCj-CQwW40K"
      },
      "source": [
        "## CNN - clinical Glove"
      ]
    },
    {
      "cell_type": "code",
      "metadata": {
        "source_hash": null,
        "output_cleared": true,
        "execution_start": 1697383311769,
        "execution_millis": 8458,
        "deepnote_to_be_reexecuted": false,
        "cell_id": "a1f94e8150994060a0758b1ab63ea065",
        "deepnote_cell_type": "code",
        "id": "ICgzzxXeW40M"
      },
      "source": [
        "# Import the necessary libraries\n",
        "import numpy as np\n",
        "import pandas as pd\n",
        "from keras.models import Sequential\n",
        "from keras.layers import Conv1D, GlobalMaxPooling1D, Dense, Embedding, AveragePooling1D, GlobalAveragePooling1D, Dropout\n",
        "from sklearn.model_selection import train_test_split\n",
        "from sklearn.preprocessing import LabelEncoder\n",
        "from keras.preprocessing.text import Tokenizer\n",
        "from keras_preprocessing.sequence import pad_sequences\n",
        "from keras.callbacks import EarlyStopping, ModelCheckpoint\n",
        "from sklearn.model_selection import GridSearchCV\n",
        "from keras.wrappers.scikit_learn import KerasClassifier\n",
        "from sklearn.metrics import accuracy_score, classification_report, ConfusionMatrixDisplay, confusion_matrix\n",
        "import matplotlib.pyplot as plt"
      ],
      "execution_count": null,
      "outputs": []
    },
    {
      "cell_type": "code",
      "metadata": {
        "source_hash": null,
        "output_cleared": true,
        "execution_start": 1697383320243,
        "execution_millis": 56830,
        "deepnote_to_be_reexecuted": false,
        "cell_id": "e1123b276b384801bc78a0d9d0a3c0d5",
        "deepnote_cell_type": "code",
        "id": "Ic1G9yZhW40P"
      },
      "source": [
        "# Load clinical GloVe word embeddings\n",
        "embeddings_index = {}\n",
        "with open('/work/converted_to_word2vec_300.txt', encoding='utf-8') as f:\n",
        "    for line in f:\n",
        "        values = line.split()\n",
        "        word = values[0]\n",
        "        coefs = np.asarray(values[1:], dtype='float32')\n",
        "        embeddings_index[word] = coefs"
      ],
      "execution_count": null,
      "outputs": []
    },
    {
      "cell_type": "code",
      "metadata": {
        "source_hash": null,
        "output_cleared": true,
        "execution_start": 1697383377071,
        "execution_millis": 163,
        "deepnote_to_be_reexecuted": false,
        "cell_id": "f7c2bbd010ed4af48776d3d5ffc97c12",
        "deepnote_cell_type": "code",
        "id": "QWLrT6KgW40Q"
      },
      "source": [
        "# Load the dataset\n",
        "data = pd.read_csv('balanced.csv')"
      ],
      "execution_count": null,
      "outputs": []
    },
    {
      "cell_type": "code",
      "metadata": {
        "source_hash": null,
        "output_cleared": true,
        "execution_start": 1697383377238,
        "execution_millis": 10,
        "deepnote_to_be_reexecuted": false,
        "cell_id": "d6a03051c32647f3b33b5d50ccf00e53",
        "deepnote_cell_type": "code",
        "id": "1VR2yEfsW40R"
      },
      "source": [
        "# Turn label into discrete variable\n",
        "label_encoder = LabelEncoder()\n",
        "data['condition_label'] = label_encoder.fit_transform(data['condition_label'])"
      ],
      "execution_count": null,
      "outputs": []
    },
    {
      "cell_type": "code",
      "metadata": {
        "source_hash": null,
        "output_cleared": true,
        "execution_start": 1697383377276,
        "execution_millis": 1386,
        "deepnote_to_be_reexecuted": false,
        "cell_id": "d34babd20ac444a68c691ea857ce0b36",
        "deepnote_cell_type": "code",
        "id": "j4qCvNbTW40S"
      },
      "source": [
        "# Tokenize the text and pad to fixed length\n",
        "tokenizer = Tokenizer()\n",
        "tokenizer.fit_on_texts(data['clean_text'])\n",
        "sequences = tokenizer.texts_to_sequences(data['clean_text'])\n",
        "\n",
        "max_sequence_length = 250\n",
        "X_padded = pad_sequences(sequences, maxlen=max_sequence_length)"
      ],
      "execution_count": null,
      "outputs": []
    },
    {
      "cell_type": "code",
      "metadata": {
        "source_hash": null,
        "output_cleared": true,
        "execution_start": 1697383378673,
        "execution_millis": 84,
        "deepnote_to_be_reexecuted": false,
        "cell_id": "87e7a1cff7a14b24815d28b4087e19b0",
        "deepnote_cell_type": "code",
        "id": "ouWr_orAW40T"
      },
      "source": [
        "# Create embedding matrix using the GloVe\n",
        "embedding_dim = 300\n",
        "word_index = tokenizer.word_index\n",
        "num_words = min(len(word_index) + 1, len(embeddings_index))\n",
        "embedding_matrix = np.zeros((num_words, embedding_dim))\n",
        "for word, i in word_index.items():\n",
        "    if i >= num_words:\n",
        "        continue\n",
        "    embedding_vector = embeddings_index.get(word)\n",
        "    if embedding_vector is not None:\n",
        "        embedding_matrix[i] = embedding_vector"
      ],
      "execution_count": null,
      "outputs": []
    },
    {
      "cell_type": "code",
      "metadata": {
        "source_hash": null,
        "output_cleared": true,
        "execution_start": 1697383378763,
        "execution_millis": 7,
        "deepnote_to_be_reexecuted": false,
        "cell_id": "5bb460129cb2417994a21d195742c919",
        "deepnote_cell_type": "code",
        "id": "9LcI6dqUW40T"
      },
      "source": [
        "# Split data into training and testing sets\n",
        "X_train, X_test, y_train, y_test = train_test_split(X_padded, data['condition_label'], test_size=0.2, random_state=12)"
      ],
      "execution_count": null,
      "outputs": []
    },
    {
      "cell_type": "code",
      "metadata": {
        "source_hash": null,
        "output_cleared": true,
        "execution_start": 1697383378781,
        "execution_millis": 20,
        "deepnote_to_be_reexecuted": false,
        "cell_id": "0cbaa8560d4044b999a5ffa9ff253d17",
        "deepnote_cell_type": "code",
        "id": "f2uNFQaoW40V"
      },
      "source": [
        "# Define CNN model\n",
        "def create_model(embedding_dim=300, filters=128, kernel_size=5, dense_units=128, dropout_rate=0.5):\n",
        "    model = Sequential()\n",
        "    model.add(Embedding(input_dim=num_words, output_dim=embedding_dim, weights=[embedding_matrix], input_length=max_sequence_length, trainable=False))\n",
        "    model.add(Conv1D(filters, kernel_size, activation='relu'))\n",
        "    model.add(GlobalAveragePooling1D())\n",
        "    model.add(Dense(dense_units, activation='relu'))\n",
        "    model.add(Dropout(dropout_rate))\n",
        "    model.add(Dense(4, activation='softmax'))\n",
        "    model.compile(optimizer='adam', loss='sparse_categorical_crossentropy', metrics=['accuracy'])\n",
        "    return model\n",
        "\n",
        "model = KerasClassifier(build_fn=create_model, verbose=0)"
      ],
      "execution_count": null,
      "outputs": []
    },
    {
      "cell_type": "code",
      "metadata": {
        "source_hash": null,
        "output_cleared": true,
        "execution_start": 1697383378796,
        "execution_millis": 297,
        "deepnote_to_be_reexecuted": false,
        "cell_id": "34ad94e254a747c59b9a71e27eb04f4c",
        "deepnote_cell_type": "code",
        "id": "LxQibzqIW40W"
      },
      "source": [
        "# Define the hyperparameter grid for CNN\n",
        "param_grid = {\n",
        "    'filters': [64, 128, 256],\n",
        "    'kernel_size' : [3, 5, 7],\n",
        "    'dense_units': [64, 128, 256],\n",
        "    'dropout_rate': [0.3, 0.5, 0.7]\n",
        "}"
      ],
      "execution_count": null,
      "outputs": []
    },
    {
      "cell_type": "code",
      "metadata": {
        "source_hash": null,
        "output_cleared": true,
        "execution_start": 1697383378843,
        "execution_millis": 13472553,
        "deepnote_to_be_reexecuted": false,
        "cell_id": "c4da547aea1e48629f1a1a43c7f04d11",
        "deepnote_cell_type": "code",
        "id": "HMQ2ODegW40X"
      },
      "source": [
        "# Use GridSearchCV to define best hyperparameters\n",
        "es = EarlyStopping(monitor='val_loss', mode='min', verbose=1, patience=3)\n",
        "mc = ModelCheckpoint('best_model.h5', monitor='val_accuracy', mode='max', save_best_only=True, verbose=1)\n",
        "\n",
        "grid = GridSearchCV(estimator=model, param_grid=param_grid, cv=3)\n",
        "grid_result = grid.fit(X_train, y_train, validation_split=0.1, callbacks=[es, mc])\n",
        "\n",
        "print(\"Best Parameters: \", grid_result.best_params_)\n",
        "print(\"Best Accuracy: \", grid_result.best_score_)"
      ],
      "execution_count": null,
      "outputs": []
    },
    {
      "cell_type": "code",
      "metadata": {
        "source_hash": null,
        "output_cleared": true,
        "execution_start": 1697396851108,
        "execution_millis": 26802,
        "deepnote_to_be_reexecuted": false,
        "cell_id": "8a0768eb46ba4d65a19e4ba4febc3bdb",
        "deepnote_cell_type": "code",
        "id": "gx2ds681W40Y"
      },
      "source": [
        "# Make predictions on the test data\n",
        "best_model = grid_result.best_estimator_.model\n",
        "loss, accuracy = best_model.evaluate(X_test, np.array(y_test))\n",
        "print(f\"Test Loss: {loss}, Test Accuracy: {accuracy}\")\n",
        "\n",
        "y_pred = best_model.predict(X_test[:, :, np.newaxis])\n",
        "y_pred_classes = np.argmax(y_pred, axis=1)\n",
        "\n",
        "y_test_classes = label_encoder.inverse_transform(y_test)\n",
        "y_pred_classes = label_encoder.inverse_transform(y_pred_classes)"
      ],
      "execution_count": null,
      "outputs": []
    },
    {
      "cell_type": "code",
      "metadata": {
        "source_hash": null,
        "output_cleared": true,
        "execution_start": 1697396877897,
        "execution_millis": 33,
        "deepnote_to_be_reexecuted": false,
        "cell_id": "f1eaa2acd77648bf8a141f006d8476d4",
        "deepnote_cell_type": "code",
        "id": "VFOkndunW40a"
      },
      "source": [
        "# Generate and print classification report for the best model\n",
        "print(\"Classification Report:\")\n",
        "\n",
        "print(classification_report(y_test_classes, y_pred_classes))"
      ],
      "execution_count": null,
      "outputs": []
    },
    {
      "cell_type": "code",
      "metadata": {
        "source_hash": null,
        "output_cleared": true,
        "execution_start": 1697396877924,
        "execution_millis": 636,
        "deepnote_to_be_reexecuted": false,
        "cell_id": "1fd6ab42e4ba4052962b429b18375600",
        "deepnote_cell_type": "code",
        "id": "GY2XMDg-W40b"
      },
      "source": [
        "# Define and display confusion matrix\n",
        "def plot_confusion_matrix(y_test, y_pred, labels):\n",
        "    cm = confusion_matrix(y_test, y_pred, labels=labels)\n",
        "    disp = ConfusionMatrixDisplay(confusion_matrix=cm, display_labels=labels)\n",
        "    fig, ax = plt.subplots(figsize=(6,6))\n",
        "    plt.rcParams.update({'font.size':13, 'font.monospace':'Computer Modern Typewriter'})\n",
        "    disp.plot(ax=ax, cmap = \"binary\", colorbar=False)\n",
        "\n",
        "plot_confusion_matrix(y_test_classes, y_pred_classes,   labels=label_encoder.classes_)"
      ],
      "execution_count": null,
      "outputs": []
    }
  ],
  "nbformat": 4,
  "nbformat_minor": 0,
  "metadata": {
    "deepnote": {},
    "orig_nbformat": 2,
    "deepnote_notebook_id": "820965f17a324acd9f73707d8d3bce06",
    "deepnote_execution_queue": [],
    "colab": {
      "provenance": []
    }
  }
}