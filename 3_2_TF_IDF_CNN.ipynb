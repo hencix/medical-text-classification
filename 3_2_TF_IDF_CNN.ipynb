{
  "cells": [
    {
      "cell_type": "markdown",
      "metadata": {
        "formattedRanges": [],
        "cell_id": "ae20ad789a8e4bcab5f365bb411cd1b0",
        "deepnote_cell_type": "text-cell-h2",
        "id": "RjEQJToIY_4L"
      },
      "source": [
        "## CNN - TF-IDF model"
      ]
    },
    {
      "cell_type": "code",
      "metadata": {
        "source_hash": "db5b08fe",
        "output_cleared": true,
        "execution_start": 1699717818418,
        "execution_millis": 6754,
        "deepnote_to_be_reexecuted": false,
        "cell_id": "a9f14cb39ace439e9438657e33982393",
        "deepnote_cell_type": "code",
        "id": "Jr7iXDWSY_4O"
      },
      "source": [
        "# Import the necessary libraries\n",
        "import numpy as np\n",
        "import pandas as pd\n",
        "from keras.models import Sequential\n",
        "from keras.layers import Conv1D, GlobalMaxPooling1D, Dense, GlobalAveragePooling1D, Dropout\n",
        "from sklearn.feature_extraction.text import TfidfVectorizer\n",
        "from sklearn.model_selection import train_test_split\n",
        "from sklearn.preprocessing import LabelEncoder\n",
        "from sklearn.model_selection import GridSearchCV\n",
        "from keras.wrappers.scikit_learn import KerasClassifier\n",
        "from keras.callbacks import EarlyStopping, ModelCheckpoint\n",
        "from sklearn.metrics import accuracy_score, classification_report, confusion_matrix, ConfusionMatrixDisplay\n",
        "import matplotlib.pyplot as plt"
      ],
      "execution_count": null,
      "outputs": []
    },
    {
      "cell_type": "code",
      "metadata": {
        "source_hash": "4169c763",
        "output_cleared": true,
        "execution_start": 1699717825174,
        "execution_millis": 99,
        "deepnote_to_be_reexecuted": false,
        "cell_id": "cb1dfc3d4f8f416986a9a69783ec47c1",
        "deepnote_cell_type": "code",
        "id": "VV2guHEVY_4S"
      },
      "source": [
        "# Load the dataset\n",
        "data = pd.read_csv('balanced.csv')"
      ],
      "execution_count": null,
      "outputs": []
    },
    {
      "cell_type": "code",
      "metadata": {
        "source_hash": "80cfa506",
        "output_cleared": true,
        "execution_start": 1699717825276,
        "execution_millis": 25,
        "deepnote_to_be_reexecuted": false,
        "cell_id": "fab16a9d8dbb4b6dbe20edae747b2595",
        "deepnote_cell_type": "code",
        "id": "WdoFIrX4Y_4T"
      },
      "source": [
        "# Turn label into discrete variable\n",
        "label_encoder = LabelEncoder()\n",
        "data['condition_label'] = label_encoder.fit_transform(data['condition_label'])"
      ],
      "execution_count": null,
      "outputs": []
    },
    {
      "cell_type": "code",
      "metadata": {
        "source_hash": "590ca45c",
        "output_cleared": true,
        "execution_start": 1699717825288,
        "execution_millis": 542,
        "deepnote_to_be_reexecuted": false,
        "cell_id": "37e2f6a903664bcd9245a0da0af1bab1",
        "deepnote_cell_type": "code",
        "id": "AeymsXr0Y_4U"
      },
      "source": [
        "# Create the TF-IDF representation\n",
        "features = 500\n",
        "vectorizer = TfidfVectorizer(max_features=features)\n",
        "X_tfidf = vectorizer.fit_transform(data['clean_text']).toarray()"
      ],
      "execution_count": null,
      "outputs": []
    },
    {
      "cell_type": "code",
      "metadata": {
        "source_hash": "66fa1b33",
        "output_cleared": true,
        "execution_start": 1699717825832,
        "execution_millis": 18,
        "deepnote_to_be_reexecuted": false,
        "cell_id": "cd1bcf6a5c1d47f28f5de1ec8f1db765",
        "deepnote_cell_type": "code",
        "id": "AvftHjtuY_4U"
      },
      "source": [
        "# Split data into training and testing sets\n",
        "X_train, X_test, y_train, y_test = train_test_split(X_tfidf, data['condition_label'], test_size=0.2, random_state=12)"
      ],
      "execution_count": null,
      "outputs": []
    },
    {
      "cell_type": "code",
      "metadata": {
        "source_hash": "493f1efc",
        "output_cleared": true,
        "execution_start": 1699717825852,
        "execution_millis": 60,
        "deepnote_to_be_reexecuted": false,
        "cell_id": "de1c8090084d40ef8aa404c9fde4888f",
        "deepnote_cell_type": "code",
        "id": "4PspVPCEY_4V"
      },
      "source": [
        "# Reshape the target labels\n",
        "y_train = y_train.values.reshape(-1, 1)\n",
        "y_test = y_test.values.reshape(-1, 1)"
      ],
      "execution_count": null,
      "outputs": []
    },
    {
      "cell_type": "code",
      "metadata": {
        "source_hash": "f9a504eb",
        "output_cleared": true,
        "execution_start": 1699717825863,
        "execution_millis": 53,
        "deepnote_to_be_reexecuted": false,
        "cell_id": "842953739aa84820a3ff31e9a72a8734",
        "deepnote_cell_type": "code",
        "id": "B_O4r5JeY_4W"
      },
      "source": [
        "# Define CNN model\n",
        "def create_model(filters=128, kernel_size=5, dense_units=128, dropout_rate=0.5):\n",
        "    model = Sequential()\n",
        "    model.add(Conv1D(filters, kernel_size, activation='relu', input_shape=(features, 1)))\n",
        "    model.add(GlobalAveragePooling1D())\n",
        "    model.add(Dense(dense_units, activation='relu'))\n",
        "    model.add(Dropout(dropout_rate))\n",
        "    model.add(Dense(4, activation='softmax'))\n",
        "\n",
        "    model.compile(optimizer='adam', loss='sparse_categorical_crossentropy', metrics=['accuracy'])\n",
        "    return model\n",
        "\n",
        "model_wrapper = KerasClassifier(build_fn=create_model, verbose=0)"
      ],
      "execution_count": null,
      "outputs": []
    },
    {
      "cell_type": "code",
      "metadata": {
        "source_hash": "7293f38e",
        "output_cleared": true,
        "execution_start": 1699717825864,
        "execution_millis": 51,
        "deepnote_to_be_reexecuted": false,
        "cell_id": "db88d7d7065f4da6923dfad86d0267ac",
        "deepnote_cell_type": "code",
        "id": "ypxARIwTY_4Y"
      },
      "source": [
        "# Define the hyperparameter grid for CNN\n",
        "param_grid = {\n",
        "    'filters': [64, 128, 256],\n",
        "    'kernel_size': [3, 5, 7],\n",
        "    'dense_units': [64, 128, 256],\n",
        "    'dropout_rate': [0.3, 0.5, 0.7]\n",
        "}"
      ],
      "execution_count": null,
      "outputs": []
    },
    {
      "cell_type": "code",
      "metadata": {
        "allow_embed": false,
        "source_hash": "ff6b0baf",
        "output_cleared": true,
        "execution_start": 1699717825908,
        "execution_millis": 31,
        "deepnote_to_be_reexecuted": false,
        "cell_id": "7082d251eebe4397b62c9d476b9d09f6",
        "deepnote_cell_type": "code",
        "id": "3TzdB2uIY_4Y"
      },
      "source": [
        "best_param_grid = {\n",
        "    'filters': [64],\n",
        "    'kernel_size': [3],\n",
        "    'dense_units': [256],\n",
        "    'dropout_rate': [0.7]\n",
        "}"
      ],
      "execution_count": null,
      "outputs": []
    },
    {
      "cell_type": "code",
      "metadata": {
        "source_hash": "9ed5372f",
        "output_cleared": true,
        "execution_start": 1699717825909,
        "execution_millis": 8298,
        "deepnote_to_be_reexecuted": false,
        "cell_id": "35b287be6f124f5f9bd44ba301560b87",
        "deepnote_cell_type": "code",
        "id": "-g2zGdG7Y_4Z"
      },
      "source": [
        "# Use GridSearchCV to define best hyperparameters\n",
        "es = EarlyStopping(monitor='val_loss', mode='min', verbose=1, patience=3)\n",
        "mc = ModelCheckpoint('best_model.h5', monitor='val_accuracy', mode='max', save_best_only=True, verbose=1)\n",
        "\n",
        "grid = GridSearchCV(estimator=model_wrapper, param_grid=best_param_grid, cv=3, verbose=1)\n",
        "grid_result = grid.fit(X_train[:, :, np.newaxis], y_train, callbacks=[es, mc], validation_split=0.1)\n",
        "\n",
        "print(\"Best Parameters: \", grid_result.best_params_)\n",
        "print(\"Best Accuracy: \", grid_result.best_score_)"
      ],
      "execution_count": null,
      "outputs": []
    },
    {
      "cell_type": "code",
      "metadata": {
        "source_hash": "6f9d9186",
        "output_cleared": true,
        "execution_start": 1699717834209,
        "execution_millis": 454,
        "deepnote_to_be_reexecuted": false,
        "cell_id": "274fd4b6c53d447096f406041c937859",
        "deepnote_cell_type": "code",
        "id": "UVDOypLYY_4a"
      },
      "source": [
        "# Make predictions on the test data\n",
        "best_model = grid_result.best_estimator_.model\n",
        "loss, accuracy = best_model.evaluate(X_test[:, :, np.newaxis], y_test)\n",
        "print(f\"Test Loss (Best Model): {loss}, Test Accuracy (Best Model): {accuracy}\")\n",
        "\n",
        "y_pred = best_model.predict(X_test[:, :, np.newaxis])\n",
        "y_pred_classes = np.argmax(y_pred, axis=1)\n",
        "\n",
        "y_test_classes = label_encoder.inverse_transform(y_test)\n",
        "y_pred_classes = label_encoder.inverse_transform(y_pred_classes)"
      ],
      "execution_count": null,
      "outputs": []
    },
    {
      "cell_type": "code",
      "metadata": {
        "source_hash": "786121ef",
        "output_cleared": true,
        "execution_start": 1699717834662,
        "execution_millis": 57,
        "deepnote_to_be_reexecuted": false,
        "cell_id": "9a11acf34d744f8a9c861eca5694942d",
        "deepnote_cell_type": "code",
        "id": "qJtv36atY_4b"
      },
      "source": [
        "# Generate and print classification report for the best model\n",
        "print(classification_report(y_test_classes, y_pred_classes))"
      ],
      "execution_count": null,
      "outputs": []
    },
    {
      "cell_type": "code",
      "metadata": {
        "source_hash": "8f17535c",
        "output_cleared": true,
        "execution_start": 1699717834708,
        "execution_millis": 173,
        "deepnote_to_be_reexecuted": false,
        "cell_id": "5d9dd9fca91442d0a7353c0c96fca0df",
        "deepnote_cell_type": "code",
        "id": "DZqEOPXUY_4c"
      },
      "source": [
        "# Define and display confusion matrix\n",
        "def plot_confusion_matrix(y_test, y_pred, labels):\n",
        "    cm = confusion_matrix(y_test, y_pred, labels=labels)\n",
        "    disp = ConfusionMatrixDisplay(confusion_matrix=cm, display_labels=labels)\n",
        "    fig, ax = plt.subplots(figsize=(6,6))\n",
        "    plt.rcParams.update({'font.size':13, 'font.monospace':'Computer Modern Typewriter'})\n",
        "    disp.plot(ax=ax, cmap = \"binary\", colorbar=False)\n",
        "\n",
        "plot_confusion_matrix(y_test_classes, y_pred_classes,   labels=label_encoder.classes_)"
      ],
      "execution_count": null,
      "outputs": []
    }
  ],
  "nbformat": 4,
  "nbformat_minor": 0,
  "metadata": {
    "deepnote": {},
    "orig_nbformat": 2,
    "deepnote_notebook_id": "724008d028aa45f88f118baa677bc2ee",
    "deepnote_persisted_session": {
      "createdAt": "2023-10-15T19:31:13.415Z"
    },
    "deepnote_execution_queue": [],
    "colab": {
      "provenance": []
    }
  }
}