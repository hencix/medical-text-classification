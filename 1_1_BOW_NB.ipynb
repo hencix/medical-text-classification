{
  "cells": [
    {
      "cell_type": "markdown",
      "metadata": {
        "formattedRanges": [],
        "cell_id": "d74078929d8e42fa82e7bbb16026658b",
        "deepnote_cell_type": "text-cell-h2",
        "id": "DvcJYFsnUa3r"
      },
      "source": [
        "## Naive Bayes - Bag of Words model"
      ]
    },
    {
      "cell_type": "code",
      "metadata": {
        "source_hash": null,
        "output_cleared": true,
        "execution_start": 1695988641831,
        "execution_millis": 1472,
        "deepnote_to_be_reexecuted": false,
        "cell_id": "a66e5483c0c244f09afd803395640bca",
        "deepnote_cell_type": "code",
        "id": "gXlY-R7PUa3w"
      },
      "source": [
        "# Import the necessary libraries\n",
        "import numpy as np\n",
        "import pandas as pd\n",
        "from sklearn.feature_extraction.text import CountVectorizer\n",
        "from sklearn.naive_bayes import MultinomialNB\n",
        "from sklearn.metrics import accuracy_score, classification_report, confusion_matrix, ConfusionMatrixDisplay\n",
        "from sklearn.model_selection import train_test_split\n",
        "from sklearn.preprocessing import LabelEncoder\n",
        "import matplotlib.pyplot as plt"
      ],
      "execution_count": null,
      "outputs": []
    },
    {
      "cell_type": "code",
      "metadata": {
        "source_hash": null,
        "output_cleared": true,
        "execution_start": 1695988643314,
        "execution_millis": 135,
        "deepnote_to_be_reexecuted": false,
        "cell_id": "2accca9bc6ec4a0da0935e489ab89d02",
        "deepnote_cell_type": "code",
        "id": "d_2_vCXaUa30"
      },
      "source": [
        "# Load the dataset\n",
        "data = pd.read_csv('balanced.csv')"
      ],
      "execution_count": null,
      "outputs": []
    },
    {
      "cell_type": "code",
      "metadata": {
        "source_hash": null,
        "output_cleared": true,
        "execution_start": 1695988643450,
        "execution_millis": 22,
        "deepnote_to_be_reexecuted": false,
        "cell_id": "3c8f28f166b0481d831c272eab4b0d5f",
        "deepnote_cell_type": "code",
        "id": "QtnpURW1Ua31"
      },
      "source": [
        "# Check for balanced data\n",
        "data[\"condition_label\"].value_counts()"
      ],
      "execution_count": null,
      "outputs": []
    },
    {
      "cell_type": "code",
      "metadata": {
        "source_hash": null,
        "output_cleared": true,
        "execution_start": 1695988643478,
        "execution_millis": 9,
        "deepnote_to_be_reexecuted": false,
        "cell_id": "d61ee94dc60c4e83aeedd68beb627063",
        "deepnote_cell_type": "code",
        "id": "dN8QguH-Ua32"
      },
      "source": [
        "# Turn label into discrete variable\n",
        "label_encoder = LabelEncoder()\n",
        "data['condition_label'] = label_encoder.fit_transform(data['condition_label'])"
      ],
      "execution_count": null,
      "outputs": []
    },
    {
      "cell_type": "code",
      "metadata": {
        "source_hash": null,
        "output_cleared": true,
        "execution_start": 1695988643484,
        "execution_millis": 50,
        "deepnote_to_be_reexecuted": false,
        "cell_id": "a09a2120735f40f194f4850b7a033cbe",
        "deepnote_cell_type": "code",
        "id": "eMbm38DRUa33"
      },
      "source": [
        "# Split data into training and testing sets\n",
        "X = data['clean_text']\n",
        "y = data['condition_label']\n",
        "X_train, X_test, y_train, y_test = train_test_split(X, y, test_size=0.2, random_state=12)"
      ],
      "execution_count": null,
      "outputs": []
    },
    {
      "cell_type": "code",
      "metadata": {
        "source_hash": null,
        "output_cleared": true,
        "execution_start": 1695988643527,
        "execution_millis": 770,
        "deepnote_to_be_reexecuted": false,
        "cell_id": "ef2e9f218a354815a0840bab5af8140a",
        "deepnote_cell_type": "code",
        "id": "K2jcwmCjUa34"
      },
      "source": [
        "# Convert text data into numerical features with CountVectorizer\n",
        "vectorizer = CountVectorizer()\n",
        "X_train_counts = vectorizer.fit_transform(X_train)\n",
        "X_test_counts = vectorizer.transform(X_test)"
      ],
      "execution_count": null,
      "outputs": []
    },
    {
      "cell_type": "code",
      "metadata": {
        "source_hash": null,
        "output_cleared": true,
        "execution_start": 1695988644108,
        "execution_millis": 150,
        "deepnote_to_be_reexecuted": false,
        "cell_id": "20e0cf1653914526a2fd9220c3afac8f",
        "deepnote_cell_type": "code",
        "id": "Y2jWe8oQUa34"
      },
      "source": [
        "# Train Naive Bayes classifier\n",
        "classifier = MultinomialNB()\n",
        "classifier.fit(X_train_counts, y_train)"
      ],
      "execution_count": null,
      "outputs": []
    },
    {
      "cell_type": "code",
      "metadata": {
        "source_hash": null,
        "output_cleared": true,
        "execution_start": 1695988644125,
        "execution_millis": 50,
        "deepnote_to_be_reexecuted": false,
        "cell_id": "01b7c48a0c2845ffb9093530391dba4e",
        "deepnote_cell_type": "code",
        "id": "oVMLtDnJUa35"
      },
      "source": [
        "# Make predictions on the test data\n",
        "y_pred = classifier.predict(X_test_counts)"
      ],
      "execution_count": null,
      "outputs": []
    },
    {
      "cell_type": "code",
      "metadata": {
        "source_hash": null,
        "output_cleared": true,
        "execution_start": 1695988644131,
        "execution_millis": 77,
        "deepnote_to_be_reexecuted": false,
        "cell_id": "f7d55629d6cf4cf2a803f387974661eb",
        "deepnote_cell_type": "code",
        "id": "-AqUdubzUa36"
      },
      "source": [
        "# Calculate accuracy\n",
        "accuracy = accuracy_score(y_test, y_pred)\n",
        "print(f\"Accuracy: {accuracy}\")"
      ],
      "execution_count": null,
      "outputs": []
    },
    {
      "cell_type": "code",
      "metadata": {
        "output_cleared": true,
        "cell_id": "ab356cf44753498f90ba819151726554",
        "deepnote_cell_type": "code",
        "id": "p3bHEq4PUa36"
      },
      "source": [
        "# Print classification report\n",
        "print(classification_report(y_test, y_pred))"
      ],
      "execution_count": null,
      "outputs": []
    },
    {
      "cell_type": "code",
      "metadata": {
        "source_hash": null,
        "output_cleared": true,
        "execution_start": 1695990636043,
        "execution_millis": 645,
        "deepnote_to_be_reexecuted": false,
        "cell_id": "58d3c920e61341809cd4da4c774e8a01",
        "deepnote_cell_type": "code",
        "id": "WXLsz0RyUa37"
      },
      "source": [
        "# Define and display confusion matrix\n",
        "def plot_confusion_matrix(y_test, y_pred, labels):\n",
        "    cm = confusion_matrix(y_test, y_pred, labels=labels)\n",
        "    disp = ConfusionMatrixDisplay(confusion_matrix=cm, display_labels=labels)\n",
        "    fig, ax = plt.subplots(figsize=(6,6))\n",
        "    plt.rcParams.update({'font.size':13, 'font.monospace':'Computer Modern Typewriter'})\n",
        "    disp.plot(ax=ax, cmap = \"binary\", colorbar=False)\n",
        "\n",
        "plot_confusion_matrix(y_test, y_pred,   labels=classifier.classes_)"
      ],
      "execution_count": null,
      "outputs": []
    }
  ],
  "nbformat": 4,
  "nbformat_minor": 0,
  "metadata": {
    "deepnote": {},
    "orig_nbformat": 2,
    "deepnote_notebook_id": "af119da6cb9945b6a492397e607ca0a2",
    "deepnote_execution_queue": [],
    "colab": {
      "provenance": []
    }
  }
}