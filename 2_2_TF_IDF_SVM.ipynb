{
  "cells": [
    {
      "cell_type": "markdown",
      "metadata": {
        "formattedRanges": [],
        "cell_id": "cd3c7ed67e81416f8a5d80700c65f876",
        "deepnote_cell_type": "text-cell-h2",
        "id": "TtQZV_lxVfEh"
      },
      "source": [
        "## Support Vector Machines - Bag of Words model"
      ]
    },
    {
      "cell_type": "code",
      "metadata": {
        "source_hash": null,
        "output_cleared": true,
        "execution_start": 1696340513555,
        "execution_millis": 893,
        "deepnote_to_be_reexecuted": false,
        "cell_id": "4f671a2ad44a4177b9660e73532fecba",
        "deepnote_cell_type": "code",
        "id": "JpRmzal-VfEm"
      },
      "source": [
        "# Import the necessary libraries\n",
        "import numpy as np\n",
        "import pandas as pd\n",
        "from sklearn.feature_extraction.text import TfidfVectorizer\n",
        "from sklearn.svm import SVC\n",
        "from sklearn.metrics import accuracy_score, classification_report, confusion_matrix, ConfusionMatrixDisplay\n",
        "from sklearn.model_selection import train_test_split, GridSearchCV\n",
        "from sklearn.preprocessing import LabelEncoder\n",
        "import matplotlib.pyplot as plt"
      ],
      "execution_count": null,
      "outputs": []
    },
    {
      "cell_type": "code",
      "metadata": {
        "output_cleared": true,
        "cell_id": "9f2549746fa145c7a5dae74831ab54fb",
        "deepnote_cell_type": "code",
        "id": "1CHRpmMhVfEs"
      },
      "source": [
        "# Load the dataset\n",
        "data = pd.read_csv('balanced.csv')"
      ],
      "execution_count": null,
      "outputs": []
    },
    {
      "cell_type": "code",
      "metadata": {
        "output_cleared": true,
        "cell_id": "a0e758e34fba48a2ba5f76b0d88d3a27",
        "deepnote_cell_type": "code",
        "id": "TrxBaLj4VfEt"
      },
      "source": [
        "# Turn label into discrete variable\n",
        "label_encoder = LabelEncoder()\n",
        "data['condition_label'] = label_encoder.fit_transform(data['condition_label'])"
      ],
      "execution_count": null,
      "outputs": []
    },
    {
      "cell_type": "code",
      "metadata": {
        "output_cleared": true,
        "cell_id": "47950a1921b0494a83f512895cbd4bf8",
        "deepnote_cell_type": "code",
        "id": "StLVGEWvVfEu"
      },
      "source": [
        "# Split data into training and testing sets\n",
        "X = data['clean_text']\n",
        "y = data['condition_label']\n",
        "X_train, X_test, y_train, y_test = train_test_split(X, y, test_size=0.2, random_state=12)"
      ],
      "execution_count": null,
      "outputs": []
    },
    {
      "cell_type": "code",
      "metadata": {
        "output_cleared": true,
        "cell_id": "d1e5edd08f8b4dc19adc41d01b9c0e94",
        "deepnote_cell_type": "code",
        "id": "KBJcEsquVfEv"
      },
      "source": [
        "# Convert text data into numerical features with TfidfVectorizer\n",
        "vectorizer = TfidfVectorizer()\n",
        "X_train_counts = vectorizer.fit_transform(X_train)\n",
        "X_test_counts = vectorizer.transform(X_test)"
      ],
      "execution_count": null,
      "outputs": []
    },
    {
      "cell_type": "code",
      "metadata": {
        "source_hash": null,
        "output_cleared": true,
        "execution_start": 1696340514451,
        "execution_millis": 44638,
        "deepnote_to_be_reexecuted": false,
        "cell_id": "67b3b8eb60e24783be182125a88f280e",
        "deepnote_cell_type": "code",
        "id": "0jw8-nyaVfEy"
      },
      "source": [
        "# Define the hyperparameter grid for SVM\n",
        "param_grid = {\n",
        "    'kernel': ['linear', 'rbf', 'sigmoid'],\n",
        "    'C': [0.1, 1, 10, 100],\n",
        "    'gamma': ['scale', 'auto', 0.1, 0.01, 0.001],\n",
        "}"
      ],
      "execution_count": null,
      "outputs": []
    },
    {
      "cell_type": "code",
      "metadata": {
        "output_cleared": true,
        "cell_id": "b978c87b172c47698580ed2f9db3dd8a",
        "deepnote_cell_type": "code",
        "id": "NcZ-HFZvVfE0"
      },
      "source": [
        "# Use GridSearchCV to define best hyperparameters\n",
        "svm_classifier = SVC()\n",
        "\n",
        "grid_search = GridSearchCV(svm_classifier, param_grid, cv=5, n_jobs=-1, verbose=1)\n",
        "grid_search.fit(X_train_counts, y_train)\n",
        "\n",
        "best_params = grid_search.best_params_\n",
        "best_svm_classifier = grid_search.best_estimator_\n",
        "\n",
        "print(\"Best Hyperparameters:\", best_params)"
      ],
      "execution_count": null,
      "outputs": []
    },
    {
      "cell_type": "code",
      "metadata": {
        "output_cleared": true,
        "cell_id": "6fae1cf267ab4fc9b57cd8fbef7328ee",
        "deepnote_cell_type": "code",
        "id": "Cgf7GQs8VfE2"
      },
      "source": [
        "# Make predictions on the test data\n",
        "y_pred = best_svm_classifier.predict(X_test_counts)"
      ],
      "execution_count": null,
      "outputs": []
    },
    {
      "cell_type": "code",
      "metadata": {
        "output_cleared": true,
        "cell_id": "882e2f2b8fbe44efb740e8a62b39a3b3",
        "deepnote_cell_type": "code",
        "id": "SWOhh55JVfE3"
      },
      "source": [
        "# Calculate accuracy\n",
        "accuracy = accuracy_score(y_test, y_pred)\n",
        "print(f\"Accuracy with best hyperparameters: {accuracy}\")"
      ],
      "execution_count": null,
      "outputs": []
    },
    {
      "cell_type": "code",
      "metadata": {
        "output_cleared": true,
        "cell_id": "e6736db3100a447e83db4506c6d5c24d",
        "deepnote_cell_type": "code",
        "id": "AiXTg9o9VfE4"
      },
      "source": [
        "# Print classification report\n",
        "print(classification_report(y_test, y_pred))"
      ],
      "execution_count": null,
      "outputs": []
    },
    {
      "cell_type": "code",
      "metadata": {
        "source_hash": null,
        "output_cleared": true,
        "execution_start": 1696340558958,
        "execution_millis": 430,
        "deepnote_to_be_reexecuted": false,
        "cell_id": "7c4304ca594d450a8a719d6d9dfc80ca",
        "deepnote_cell_type": "code",
        "id": "TXVD4dAJVfE5"
      },
      "source": [
        "# Define and display confusion matrix\n",
        "def plot_confusion_matrix(y_test, y_pred, labels):\n",
        "    cm = confusion_matrix(y_test, y_pred, labels=labels)\n",
        "    disp = ConfusionMatrixDisplay(confusion_matrix=cm, display_labels=labels)\n",
        "    fig, ax = plt.subplots(figsize=(6,6))\n",
        "    plt.rcParams.update({'font.size':13, 'font.monospace':'Computer Modern Typewriter'})\n",
        "    disp.plot(ax=ax, cmap = \"binary\", colorbar=False)\n",
        "\n",
        "plot_confusion_matrix(y_test, y_pred,   labels=best_svm_classifier.classes_)"
      ],
      "execution_count": null,
      "outputs": []
    }
  ],
  "nbformat": 4,
  "nbformat_minor": 0,
  "metadata": {
    "deepnote": {},
    "orig_nbformat": 2,
    "deepnote_notebook_id": "fe43b961f28845d9a9595632dc030d09",
    "deepnote_execution_queue": [],
    "colab": {
      "provenance": []
    }
  }
}