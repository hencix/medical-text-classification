{
  "cells": [
    {
      "cell_type": "markdown",
      "metadata": {
        "formattedRanges": [],
        "cell_id": "1937dfb3591c4c238f483c91987d2033",
        "deepnote_cell_type": "text-cell-h2",
        "id": "-q5teYVyWslt"
      },
      "source": [
        "## CNN - pre-trained W2V"
      ]
    },
    {
      "cell_type": "code",
      "metadata": {
        "source_hash": null,
        "output_cleared": true,
        "execution_start": 1697115588037,
        "execution_millis": 9648,
        "deepnote_to_be_reexecuted": false,
        "cell_id": "47cc9241aef74083b3f1c66101b1cd9d",
        "deepnote_cell_type": "code",
        "id": "edbRFDJsWsmA"
      },
      "source": [
        "# Import the necessary libraries\n",
        "import numpy as np\n",
        "import pandas as pd\n",
        "import gensim\n",
        "from keras.models import Sequential\n",
        "from sklearn.model_selection import train_test_split\n",
        "from sklearn.preprocessing import LabelEncoder\n",
        "from keras.preprocessing.text import Tokenizer\n",
        "from keras_preprocessing.sequence import pad_sequences\n",
        "from sklearn.model_selection import GridSearchCV\n",
        "from keras.wrappers.scikit_learn import KerasClassifier\n",
        "from keras.layers import Conv1D, GlobalMaxPooling1D, Dense, Embedding, AveragePooling1D, GlobalAveragePooling1D, Dropout\n",
        "from gensim.models import word2vec\n",
        "from gensim.models.word2vec import Word2Vec\n",
        "import spacy\n",
        "import string\n",
        "from keras.callbacks import EarlyStopping, ModelCheckpoint\n",
        "from sklearn.metrics import accuracy_score, classification_report, confusion_matrix, ConfusionMatrixDisplay\n",
        "import matplotlib.pyplot as plt"
      ],
      "execution_count": null,
      "outputs": []
    },
    {
      "cell_type": "code",
      "metadata": {
        "source_hash": null,
        "output_cleared": true,
        "execution_start": 1697115597686,
        "execution_millis": 45974,
        "deepnote_to_be_reexecuted": false,
        "cell_id": "06843ee9b4a04b979b97e722190743c3",
        "deepnote_cell_type": "code",
        "id": "ZPxalOQNWsmO"
      },
      "source": [
        "# Load Word2Vec embeddings\n",
        "from gensim.models.word2vec import Word2Vec\n",
        "from gensim.models import KeyedVectors\n",
        "w2v_model = KeyedVectors.load_word2vec_format('/datasets/drive/GoogleNews-vectors-negative300.bin', binary=True)"
      ],
      "execution_count": null,
      "outputs": []
    },
    {
      "cell_type": "code",
      "metadata": {
        "source_hash": null,
        "output_cleared": true,
        "execution_start": 1697115643661,
        "execution_millis": 774050,
        "deepnote_to_be_reexecuted": false,
        "cell_id": "c1b0ba694f794459a82d296ab42d5bdd",
        "deepnote_cell_type": "code",
        "id": "vnKFo9jNWsmQ"
      },
      "source": [
        "# Load the dataset\n",
        "data = pd.read_csv('balanced.csv')"
      ],
      "execution_count": null,
      "outputs": []
    },
    {
      "cell_type": "code",
      "metadata": {
        "output_cleared": true,
        "cell_id": "29362a52891b41909bb0f586df359164",
        "deepnote_cell_type": "code",
        "id": "aE7viyf9WsmU"
      },
      "source": [
        "# Turn label into discrete variable\n",
        "label_encoder = LabelEncoder()\n",
        "data['condition_label'] = label_encoder.fit_transform(data['condition_label'])"
      ],
      "execution_count": null,
      "outputs": []
    },
    {
      "cell_type": "code",
      "metadata": {
        "output_cleared": true,
        "cell_id": "94690864d8484d739c0dd0a79ef7b864",
        "deepnote_cell_type": "code",
        "id": "gGtrOx4-WsmZ"
      },
      "source": [
        "# Tokenize the text and pad to fixed length\n",
        "tokenizer = Tokenizer()\n",
        "tokenizer.fit_on_texts(data['clean_text'])\n",
        "sequences = tokenizer.texts_to_sequences(data['clean_text'])\n",
        "\n",
        "max_sequence_length = 250\n",
        "X_padded = pad_sequences(sequences, maxlen=max_sequence_length)"
      ],
      "execution_count": null,
      "outputs": []
    },
    {
      "cell_type": "code",
      "metadata": {
        "output_cleared": true,
        "cell_id": "7f3a7a979bf142d69a8cde9e03b69648",
        "deepnote_cell_type": "code",
        "id": "xzKkwEizWsmb"
      },
      "source": [
        "# Create embedding matrix using Word2Vec\n",
        "embedding_dim = 300\n",
        "word_index = tokenizer.word_index\n",
        "num_words = len(word_index) + 1\n",
        "embedding_matrix = np.zeros((num_words, embedding_dim))\n",
        "for word, i in word_index.items():\n",
        "    if i >= num_words:\n",
        "        continue\n",
        "    if word in w2v_model:\n",
        "        embedding_matrix[i] = w2v_model[word]"
      ],
      "execution_count": null,
      "outputs": []
    },
    {
      "cell_type": "code",
      "metadata": {
        "output_cleared": true,
        "cell_id": "99043d4d05774f9384986f3fff9d8d51",
        "deepnote_cell_type": "code",
        "id": "PEjyn8eNWsme"
      },
      "source": [
        "# Split data into training and testing sets\n",
        "X_train, X_test, y_train, y_test = train_test_split(X_padded, data['condition_label'], test_size=0.2, random_state=12)"
      ],
      "execution_count": null,
      "outputs": []
    },
    {
      "cell_type": "code",
      "metadata": {
        "output_cleared": true,
        "cell_id": "c110d0e8fad84ce490c90c22e464ce67",
        "deepnote_cell_type": "code",
        "id": "ZMxC-S8KWsmg"
      },
      "source": [
        "# Define CNN model\n",
        "def create_model(embedding_dim=300, filters=128, kernel_size=5, dense_units=128, dropout_rate=0.5):\n",
        "    model = Sequential()\n",
        "    model.add(Embedding(input_dim=num_words, output_dim=embedding_dim, weights=[embedding_matrix], input_length=max_sequence_length, trainable=False))\n",
        "    model.add(Conv1D(filters, kernel_size, activation='relu'))\n",
        "    model.add(GlobalAveragePooling1D())\n",
        "    model.add(Dense(dense_units, activation='relu'))\n",
        "    model.add(Dropout(dropout_rate))\n",
        "    model.add(Dense(4, activation='softmax'))\n",
        "    model.compile(optimizer='adam', loss='sparse_categorical_crossentropy', metrics=['accuracy'])\n",
        "    return model\n",
        "\n",
        "model = KerasClassifier(build_fn=create_model, verbose=0)"
      ],
      "execution_count": null,
      "outputs": []
    },
    {
      "cell_type": "code",
      "metadata": {
        "output_cleared": true,
        "cell_id": "17878158078240bf858502b2ce5d3c02",
        "deepnote_cell_type": "code",
        "id": "mrsoH8hsWsmj"
      },
      "source": [
        "# Define the hyperparameter grid for CNN\n",
        "param_grid = {\n",
        "    'filters': [64, 128, 256],\n",
        "    'kernel_size': [3, 5, 7],\n",
        "    'dense_units': [64, 128, 256],\n",
        "    'dropout_rate': [0.3, 0.5, 0.7]\n",
        "}"
      ],
      "execution_count": null,
      "outputs": []
    },
    {
      "cell_type": "code",
      "metadata": {
        "output_cleared": true,
        "cell_id": "3e99a934c8214d4f8671065fe892a3bd",
        "deepnote_cell_type": "code",
        "id": "IKFENfkGWsml"
      },
      "source": [
        "# Use GridSearchCV to define best hyperparameters\n",
        "es = EarlyStopping(monitor='val_loss', mode='min', verbose=1, patience=3)\n",
        "mc = ModelCheckpoint('best_model.h5', monitor='val_accuracy', mode='max', save_best_only=True, verbose=1)\n",
        "\n",
        "grid = GridSearchCV(estimator=model, param_grid=param_grid, cv=3)\n",
        "grid_result = grid.fit(X_train, y_train, validation_split=0.1, callbacks=[es,mc])\n",
        "\n",
        "print(\"Best Parameters: \", grid_result.best_params_)\n",
        "print(\"Best Accuracy: \", grid_result.best_score_)"
      ],
      "execution_count": null,
      "outputs": []
    },
    {
      "cell_type": "code",
      "metadata": {
        "source_hash": null,
        "output_cleared": true,
        "execution_start": 1697116417515,
        "execution_millis": 1862,
        "deepnote_to_be_reexecuted": false,
        "cell_id": "25a062a842124b2082d3cc2543bb874c",
        "deepnote_cell_type": "code",
        "id": "uR0PhtAvWsmm"
      },
      "source": [
        "# Make predictions on the test data\n",
        "best_model = grid_result.best_estimator_.model\n",
        "loss, accuracy = best_model.evaluate(X_test, np.array(y_test))\n",
        "print(f\"Test Loss: {loss}, Test Accuracy: {accuracy}\")\n",
        "\n",
        "y_pred = best_model.predict(X_test[:, :, np.newaxis])\n",
        "y_pred_classes = np.argmax(y_pred, axis=1)\n",
        "\n",
        "y_test_classes = label_encoder.inverse_transform(y_test)\n",
        "y_pred_classes = label_encoder.inverse_transform(y_pred_classes)"
      ],
      "execution_count": null,
      "outputs": []
    },
    {
      "cell_type": "code",
      "metadata": {
        "source_hash": null,
        "output_cleared": true,
        "execution_start": 1697116993743,
        "execution_millis": 28,
        "deepnote_to_be_reexecuted": false,
        "cell_id": "04d8051ead7347eeb9143134d78b45ee",
        "deepnote_cell_type": "code",
        "id": "NODVwpOiWsmo"
      },
      "source": [
        "# Generate and print classification report for the best model\n",
        "print(classification_report(y_test_classes, y_pred_classes))"
      ],
      "execution_count": null,
      "outputs": []
    },
    {
      "cell_type": "code",
      "metadata": {
        "source_hash": null,
        "output_cleared": true,
        "execution_start": 1697116997675,
        "execution_millis": 337,
        "deepnote_to_be_reexecuted": false,
        "cell_id": "afaf7d7973854e6787015345d02501e0",
        "deepnote_cell_type": "code",
        "id": "jTzVopqjWsmq"
      },
      "source": [
        "# Define and display confusion matrix\n",
        "def plot_confusion_matrix(y_test, y_pred, labels):\n",
        "    cm = confusion_matrix(y_test, y_pred, labels=labels)\n",
        "    disp = ConfusionMatrixDisplay(confusion_matrix=cm, display_labels=labels)\n",
        "    fig, ax = plt.subplots(figsize=(6,6))\n",
        "    plt.rcParams.update({'font.size':13, 'font.monospace':'Computer Modern Typewriter'})\n",
        "    disp.plot(ax=ax, cmap = \"binary\", colorbar=False)\n",
        "\n",
        "plot_confusion_matrix(y_test_classes, y_pred_classes,   labels=label_encoder.classes_)"
      ],
      "execution_count": null,
      "outputs": []
    }
  ],
  "nbformat": 4,
  "nbformat_minor": 0,
  "metadata": {
    "deepnote": {},
    "orig_nbformat": 2,
    "deepnote_notebook_id": "6da36fb4abee487c87c0f042171c739d",
    "deepnote_execution_queue": [],
    "colab": {
      "provenance": []
    }
  }
}