{
  "cells": [
    {
      "cell_type": "markdown",
      "metadata": {
        "formattedRanges": [],
        "cell_id": "60313671597a473699c272d94818a377",
        "deepnote_cell_type": "text-cell-h2",
        "id": "4YiDE_3IUsR6"
      },
      "source": [
        "## Naive Bayes - TF-IDF model"
      ]
    },
    {
      "cell_type": "code",
      "metadata": {
        "source_hash": null,
        "output_cleared": true,
        "execution_start": 1695990789892,
        "execution_millis": 2090,
        "deepnote_to_be_reexecuted": false,
        "cell_id": "fa20faab98cc4b35b7024243ff5099a6",
        "deepnote_cell_type": "code",
        "id": "AAn3dt9ZUsR8"
      },
      "source": [
        "# Import the necessary libraries\n",
        "import numpy as np\n",
        "import pandas as pd\n",
        "from sklearn.feature_extraction.text import TfidfVectorizer\n",
        "from sklearn.naive_bayes import MultinomialNB\n",
        "from sklearn.metrics import accuracy_score, classification_report, confusion_matrix, ConfusionMatrixDisplay\n",
        "from sklearn.model_selection import train_test_split\n",
        "from sklearn.preprocessing import LabelEncoder\n",
        "import matplotlib.pyplot as plt"
      ],
      "execution_count": null,
      "outputs": []
    },
    {
      "cell_type": "code",
      "metadata": {
        "source_hash": null,
        "output_cleared": true,
        "execution_start": 1695990791988,
        "execution_millis": 294,
        "deepnote_to_be_reexecuted": false,
        "cell_id": "a09191a843ae428394834b4f44fba820",
        "deepnote_cell_type": "code",
        "id": "-FElutNRUsSA"
      },
      "source": [
        "# Load the dataset\n",
        "data = pd.read_csv('balanced.csv')"
      ],
      "execution_count": null,
      "outputs": []
    },
    {
      "cell_type": "code",
      "metadata": {
        "source_hash": null,
        "output_cleared": true,
        "execution_start": 1695990792290,
        "execution_millis": 16,
        "deepnote_to_be_reexecuted": false,
        "cell_id": "a8ec8473c31f445d9dc03d5fb33598d8",
        "deepnote_cell_type": "code",
        "id": "tBvsqIcYUsSC"
      },
      "source": [
        "# Turn label into discrete variable\n",
        "label_encoder = LabelEncoder()\n",
        "data['condition_label'] = label_encoder.fit_transform(data['condition_label'])"
      ],
      "execution_count": null,
      "outputs": []
    },
    {
      "cell_type": "code",
      "metadata": {
        "source_hash": null,
        "output_cleared": true,
        "execution_start": 1695990792303,
        "execution_millis": 9,
        "deepnote_to_be_reexecuted": false,
        "cell_id": "d06e195a5fb849cc8bfa920f39087eca",
        "deepnote_cell_type": "code",
        "id": "xSUiCR29UsSD"
      },
      "source": [
        "# Split data into training and testing sets\n",
        "X = data['clean_text']\n",
        "y = data['condition_label']\n",
        "X_train, X_test, y_train, y_test = train_test_split(X, y, test_size=0.2, random_state=12)"
      ],
      "execution_count": null,
      "outputs": []
    },
    {
      "cell_type": "code",
      "metadata": {
        "source_hash": null,
        "output_cleared": true,
        "execution_start": 1695990792391,
        "execution_millis": 1489,
        "deepnote_to_be_reexecuted": false,
        "cell_id": "a6e6011aea164dc2853be2dc072834e8",
        "deepnote_cell_type": "code",
        "id": "4a6gYivnUsSD"
      },
      "source": [
        "# Convert text data into numerical features using TfidfVectorizer\n",
        "vectorizer = TfidfVectorizer()\n",
        "X_train_counts = vectorizer.fit_transform(X_train)\n",
        "X_test_counts = vectorizer.transform(X_test)"
      ],
      "execution_count": null,
      "outputs": []
    },
    {
      "cell_type": "code",
      "metadata": {
        "source_hash": null,
        "output_cleared": true,
        "execution_start": 1695990793902,
        "execution_millis": 319,
        "deepnote_to_be_reexecuted": false,
        "cell_id": "0cdbb6fdf5bd43279ce61f65ce9d06be",
        "deepnote_cell_type": "code",
        "id": "sx4whDeuUsSE"
      },
      "source": [
        "# Train Naive Bayes classifier\n",
        "classifier = MultinomialNB()\n",
        "classifier.fit(X_train_counts, y_train)"
      ],
      "execution_count": null,
      "outputs": []
    },
    {
      "cell_type": "code",
      "metadata": {
        "source_hash": null,
        "output_cleared": true,
        "execution_start": 1695990793981,
        "execution_millis": 7,
        "deepnote_to_be_reexecuted": false,
        "cell_id": "b1bfbbd155794968bec5b5b40442f5d5",
        "deepnote_cell_type": "code",
        "id": "8pLD2Ra0UsSH"
      },
      "source": [
        "# Make predictions on the test data\n",
        "y_pred = classifier.predict(X_test_counts)"
      ],
      "execution_count": null,
      "outputs": []
    },
    {
      "cell_type": "code",
      "metadata": {
        "source_hash": null,
        "output_cleared": true,
        "execution_start": 1695990794031,
        "execution_millis": 223,
        "deepnote_to_be_reexecuted": false,
        "cell_id": "6fcd3eaa3f83428290231161bba5d254",
        "deepnote_cell_type": "code",
        "id": "x2UOx3ogUsSI"
      },
      "source": [
        "# Calculate accuracy\n",
        "accuracy = accuracy_score(y_test, y_pred)\n",
        "print(f\"Accuracy: {accuracy}\")"
      ],
      "execution_count": null,
      "outputs": []
    },
    {
      "cell_type": "code",
      "metadata": {
        "output_cleared": true,
        "cell_id": "54fa697e6f2348f0a9f3f140d8826a52",
        "deepnote_cell_type": "code",
        "id": "fJTNclh-UsSJ"
      },
      "source": [
        "# Print classification report\n",
        "print(classification_report(y_test, y_pred))"
      ],
      "execution_count": null,
      "outputs": []
    },
    {
      "cell_type": "code",
      "metadata": {
        "source_hash": null,
        "output_cleared": true,
        "execution_start": 1695990794032,
        "execution_millis": 701,
        "deepnote_to_be_reexecuted": false,
        "cell_id": "3f2d0e7e6019454d8f950f5a98c3308f",
        "deepnote_cell_type": "code",
        "id": "Xzv9w8YsUsSK"
      },
      "source": [
        "# Define and display confusion matrix\n",
        "def plot_confusion_matrix(y_test, y_pred, labels):\n",
        "    cm = confusion_matrix(y_test, y_pred, labels=labels)\n",
        "    disp = ConfusionMatrixDisplay(confusion_matrix=cm, display_labels=labels)\n",
        "    fig, ax = plt.subplots(figsize=(6,6))\n",
        "    plt.rcParams.update({'font.size':13, 'font.monospace':'Computer Modern Typewriter'})\n",
        "    disp.plot(ax=ax, cmap = \"binary\", colorbar=False)\n",
        "\n",
        "plot_confusion_matrix(y_test, y_pred,   labels=classifier.classes_)"
      ],
      "execution_count": null,
      "outputs": []
    }
  ],
  "nbformat": 4,
  "nbformat_minor": 0,
  "metadata": {
    "deepnote": {},
    "orig_nbformat": 2,
    "deepnote_notebook_id": "814f2f34fc6f4f55b992bb31ea9dfff7",
    "deepnote_execution_queue": [],
    "colab": {
      "provenance": []
    }
  }
}