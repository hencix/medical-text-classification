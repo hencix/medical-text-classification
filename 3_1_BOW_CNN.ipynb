{
  "cells": [
    {
      "cell_type": "markdown",
      "metadata": {
        "formattedRanges": [],
        "cell_id": "fc2df5e4683b418380d1ed87755dd5b0",
        "deepnote_cell_type": "text-cell-h2",
        "id": "7RcEWhx6VzqJ"
      },
      "source": [
        "## CNN - Bag of Words model"
      ]
    },
    {
      "cell_type": "code",
      "metadata": {
        "source_hash": null,
        "output_cleared": true,
        "execution_start": 1697377682517,
        "execution_millis": 179,
        "deepnote_to_be_reexecuted": false,
        "cell_id": "f52f516dc5ff46c0a41512d57ea55224",
        "deepnote_cell_type": "code",
        "id": "f4PheIj-VzqM"
      },
      "source": [
        "# Import the necessary libraries\n",
        "import numpy as np\n",
        "import pandas as pd\n",
        "from keras.models import Sequential\n",
        "from keras.layers import Conv1D, GlobalMaxPooling1D, Dense, Dropout, GlobalAveragePooling1D\n",
        "from sklearn.feature_extraction.text import CountVectorizer\n",
        "from sklearn.model_selection import train_test_split\n",
        "from sklearn.preprocessing import LabelEncoder\n",
        "from sklearn.model_selection import GridSearchCV\n",
        "from keras.wrappers.scikit_learn import KerasClassifier\n",
        "from keras.callbacks import EarlyStopping, ModelCheckpoint\n",
        "from sklearn.metrics import accuracy_score, classification_report, confusion_matrix, ConfusionMatrixDisplay\n",
        "import matplotlib.pyplot as plt"
      ],
      "execution_count": null,
      "outputs": []
    },
    {
      "cell_type": "code",
      "metadata": {
        "source_hash": null,
        "output_cleared": true,
        "execution_start": 1697377689234,
        "execution_millis": 618,
        "deepnote_to_be_reexecuted": false,
        "cell_id": "357d6be8ecda44de8fc0558ddde8a375",
        "deepnote_cell_type": "code",
        "id": "NPspIw_9VzqU"
      },
      "source": [
        "# Load the dataset\n",
        "data = pd.read_csv('balanced.csv')"
      ],
      "execution_count": null,
      "outputs": []
    },
    {
      "cell_type": "code",
      "metadata": {
        "source_hash": null,
        "output_cleared": true,
        "execution_start": 1697377703208,
        "execution_millis": 239,
        "deepnote_to_be_reexecuted": false,
        "cell_id": "3ac95de5303d4611b594db9ae7dd9736",
        "deepnote_cell_type": "code",
        "id": "XQhjHP_LVzqV"
      },
      "source": [
        "# Turn label into discrete variable\n",
        "label_encoder = LabelEncoder()\n",
        "data['condition_label'] = label_encoder.fit_transform(data['condition_label'])"
      ],
      "execution_count": null,
      "outputs": []
    },
    {
      "cell_type": "code",
      "metadata": {
        "source_hash": null,
        "output_cleared": true,
        "execution_start": 1697377720835,
        "execution_millis": 879,
        "deepnote_to_be_reexecuted": false,
        "cell_id": "d7527b9a3e434a10928906a9d906a961",
        "deepnote_cell_type": "code",
        "id": "WVc8jf00VzqX"
      },
      "source": [
        "# Create Bag-of-Words representation\n",
        "features = 500\n",
        "vectorizer = CountVectorizer(max_features=features)\n",
        "X_bow = vectorizer.fit_transform(data['clean_text']).toarray()"
      ],
      "execution_count": null,
      "outputs": []
    },
    {
      "cell_type": "code",
      "metadata": {
        "source_hash": null,
        "output_cleared": true,
        "execution_start": 1697377810743,
        "execution_millis": 6,
        "deepnote_to_be_reexecuted": false,
        "cell_id": "004d561f45ec460ca92bd1fa28d0f8e6",
        "deepnote_cell_type": "code",
        "id": "gb5T_VuJVzqY"
      },
      "source": [
        "# Split data into training and testing sets\n",
        "X_train, X_test, y_train, y_test = train_test_split(X_bow, data['condition_label'], test_size=0.2, random_state=12)"
      ],
      "execution_count": null,
      "outputs": []
    },
    {
      "cell_type": "code",
      "metadata": {
        "source_hash": null,
        "output_cleared": true,
        "execution_start": 1697377795684,
        "execution_millis": 138,
        "deepnote_to_be_reexecuted": false,
        "cell_id": "bdda145f24de4f06bace544c0f2cfa9f",
        "deepnote_cell_type": "code",
        "id": "AdVFAbFNVzqa"
      },
      "source": [
        "# Reshape the target labels\n",
        "y_train = y_train.values.reshape(-1, 1)\n",
        "y_test = y_test.values.reshape(-1, 1)"
      ],
      "execution_count": null,
      "outputs": []
    },
    {
      "cell_type": "code",
      "metadata": {
        "source_hash": null,
        "output_cleared": true,
        "execution_start": 1697377860778,
        "execution_millis": 27,
        "deepnote_to_be_reexecuted": false,
        "cell_id": "143503e1419048cb85f1771617df94b4",
        "deepnote_cell_type": "code",
        "id": "86J7sTp-Vzqb"
      },
      "source": [
        "# Define CNN model\n",
        "def create_model(filters=128, kernel_size=5, dense_units=128, dropout_rate=0.5):\n",
        "    model = Sequential()\n",
        "    model.add(Conv1D(filters, kernel_size, activation='relu', input_shape=(features, 1)))\n",
        "    model.add(GlobalAveragePooling1D())\n",
        "    model.add(Dense(dense_units, activation='relu'))\n",
        "    model.add(Dropout(dropout_rate))\n",
        "    model.add(Dense(4, activation='softmax'))\n",
        "\n",
        "    model.compile(optimizer='adam', loss='sparse_categorical_crossentropy', metrics=['accuracy'])\n",
        "    return model\n",
        "\n",
        "model_wrapper = KerasClassifier(build_fn=create_model, verbose=0)"
      ],
      "execution_count": null,
      "outputs": []
    },
    {
      "cell_type": "code",
      "metadata": {
        "source_hash": null,
        "output_cleared": true,
        "execution_start": 1697377864367,
        "execution_millis": 15,
        "deepnote_to_be_reexecuted": false,
        "cell_id": "a3b078116f884879810b9734c8805162",
        "deepnote_cell_type": "code",
        "id": "NVVHHtNGVzqd"
      },
      "source": [
        "# Define the hyperparameter grid for CNN\n",
        "param_grid = {\n",
        "    'filters': [64, 128, 256],\n",
        "    'kernel_size': [3, 5, 7],\n",
        "    'dense_units': [64, 128, 256],\n",
        "    'dropout_rate': [0.3, 0.5, 0.7]\n",
        "}"
      ],
      "execution_count": null,
      "outputs": []
    },
    {
      "cell_type": "code",
      "metadata": {
        "allow_embed": false,
        "source_hash": null,
        "output_cleared": true,
        "execution_start": 1697377867298,
        "execution_millis": 7,
        "deepnote_to_be_reexecuted": false,
        "cell_id": "e7bb62dd63884972972eef02e5ad7f52",
        "deepnote_cell_type": "code",
        "id": "g3jafkx5Vzqe"
      },
      "source": [
        "best_param_grid = {\n",
        "    'filters': [256],\n",
        "    'kernel_size': [5],\n",
        "    'dense_units': [256],\n",
        "    'dropout_rate': [0.3]\n",
        "}"
      ],
      "execution_count": null,
      "outputs": []
    },
    {
      "cell_type": "code",
      "metadata": {
        "source_hash": null,
        "output_cleared": true,
        "execution_start": 1697377871131,
        "execution_millis": 37679,
        "deepnote_to_be_reexecuted": false,
        "cell_id": "13d5949555864f20a026a59f0277421e",
        "deepnote_cell_type": "code",
        "id": "55FW6g6nVzqf"
      },
      "source": [
        "# Use GridSearchCV to define best hyperparameters\n",
        "es = EarlyStopping(monitor='val_loss', mode='min', verbose=1, patience=3)\n",
        "mc = ModelCheckpoint('best_model.h5', monitor='val_accuracy', mode='max', save_best_only=True, verbose=1)\n",
        "\n",
        "grid = GridSearchCV(estimator=model_wrapper, param_grid=best_param_grid, cv=3, verbose=1)\n",
        "grid_result = grid.fit(X_train[:, :, np.newaxis], y_train, callbacks=[es, mc], validation_split=0.1)\n",
        "\n",
        "print(\"Best Parameters: \", grid_result.best_params_)\n",
        "print(\"Best Accuracy: \", grid_result.best_score_)"
      ],
      "execution_count": null,
      "outputs": []
    },
    {
      "cell_type": "code",
      "metadata": {
        "source_hash": null,
        "output_cleared": true,
        "execution_start": 1696939956418,
        "execution_millis": 3283,
        "deepnote_to_be_reexecuted": true,
        "cell_id": "9dd5be0c82094b10b170ddb820e7bcdf",
        "deepnote_cell_type": "code",
        "id": "b2jYD3okVzqj"
      },
      "source": [
        "# Make predictions on the test data\n",
        "best_model = grid_result.best_estimator_.model\n",
        "loss, accuracy = best_model.evaluate(X_test[:, :, np.newaxis], y_test)\n",
        "print(f\"Test Loss (Best Model): {loss}, Test Accuracy (Best Model): {accuracy}\")\n",
        "\n",
        "y_pred = best_model.predict(X_test[:, :, np.newaxis])\n",
        "y_pred_classes = np.argmax(y_pred, axis=1)\n",
        "\n",
        "y_test_classes = label_encoder.inverse_transform(y_test)\n",
        "y_pred_classes = label_encoder.inverse_transform(y_pred_classes)"
      ],
      "execution_count": null,
      "outputs": []
    },
    {
      "cell_type": "code",
      "metadata": {
        "source_hash": null,
        "output_cleared": true,
        "execution_start": 1696939961547,
        "execution_millis": 250,
        "deepnote_to_be_reexecuted": true,
        "cell_id": "24e3ab927ad943e5918c55dc01b108b5",
        "deepnote_cell_type": "code",
        "id": "nE4MQ3w-Vzqk"
      },
      "source": [
        "# Generate and print classification report for the best model\n",
        "print(classification_report(y_test_classes, y_pred_classes))"
      ],
      "execution_count": null,
      "outputs": []
    },
    {
      "cell_type": "code",
      "metadata": {
        "source_hash": null,
        "output_cleared": true,
        "execution_start": 1696939966411,
        "execution_millis": 971,
        "deepnote_to_be_reexecuted": true,
        "cell_id": "e36e3431830442edab4eb75432513e2c",
        "deepnote_cell_type": "code",
        "id": "sFcwEP6HVzqk"
      },
      "source": [
        "# Define and display confusion matrix\n",
        "def plot_confusion_matrix(y_test, y_pred, labels):\n",
        "    cm = confusion_matrix(y_test, y_pred, labels=labels)\n",
        "    disp = ConfusionMatrixDisplay(confusion_matrix=cm, display_labels=labels)\n",
        "    fig, ax = plt.subplots(figsize=(6,6))\n",
        "    plt.rcParams.update({'font.size':13, 'font.monospace':'Computer Modern Typewriter'})\n",
        "    disp.plot(ax=ax, cmap = \"binary\", colorbar=False)\n",
        "\n",
        "plot_confusion_matrix(y_test_classes, y_pred_classes,   labels=label_encoder.classes_)"
      ],
      "execution_count": null,
      "outputs": []
    }
  ],
  "nbformat": 4,
  "nbformat_minor": 0,
  "metadata": {
    "deepnote": {},
    "orig_nbformat": 2,
    "deepnote_notebook_id": "0dd7562535f242a1bd948fcbc73a52d0",
    "deepnote_execution_queue": [],
    "colab": {
      "provenance": []
    }
  }
}