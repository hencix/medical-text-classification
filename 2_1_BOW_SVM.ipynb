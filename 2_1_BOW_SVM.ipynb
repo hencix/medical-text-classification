{
  "cells": [
    {
      "cell_type": "markdown",
      "metadata": {
        "formattedRanges": [],
        "cell_id": "1d12ecb346624f19bc098759dbd271ee",
        "deepnote_cell_type": "text-cell-h2",
        "id": "WIVr0BKjZYyl"
      },
      "source": [
        "## Support Vector Machines - Bag of Words model"
      ]
    },
    {
      "cell_type": "code",
      "metadata": {
        "source_hash": null,
        "output_cleared": true,
        "execution_start": 1696316862198,
        "execution_millis": 2755,
        "deepnote_to_be_reexecuted": false,
        "cell_id": "253cd34c5caa45df8432b7e78c8083a1",
        "deepnote_cell_type": "code",
        "id": "Bhp3WYYIZYyr"
      },
      "source": [
        "# Import the necessary libraries\n",
        "import numpy as np\n",
        "import seaborn as sns\n",
        "import pandas as pd\n",
        "from sklearn.feature_extraction.text import CountVectorizer\n",
        "from sklearn.svm import SVC\n",
        "from sklearn.metrics import accuracy_score, classification_report, ConfusionMatrixDisplay, confusion_matrix\n",
        "from sklearn.model_selection import train_test_split, GridSearchCV\n",
        "from sklearn.preprocessing import LabelEncoder\n",
        "import matplotlib.pyplot as plt"
      ],
      "execution_count": null,
      "outputs": []
    },
    {
      "cell_type": "code",
      "metadata": {
        "source_hash": null,
        "output_cleared": true,
        "execution_start": 1696316864964,
        "execution_millis": 147,
        "deepnote_to_be_reexecuted": false,
        "cell_id": "bb6593b0143842ef9f7d8bcc4281126f",
        "deepnote_cell_type": "code",
        "id": "Y-QHubIpZYyu"
      },
      "source": [
        "# Load the dataset\n",
        "data = pd.read_csv('balanced.csv')"
      ],
      "execution_count": null,
      "outputs": []
    },
    {
      "cell_type": "code",
      "metadata": {
        "source_hash": null,
        "output_cleared": true,
        "execution_start": 1696316865113,
        "execution_millis": 21,
        "deepnote_to_be_reexecuted": false,
        "cell_id": "3a0957cda8a04488a514aa1bbd403b6e",
        "deepnote_cell_type": "code",
        "id": "VV2eLcg4ZYyv"
      },
      "source": [
        "# Turn label into discrete variable\n",
        "label_encoder = LabelEncoder()\n",
        "data['condition_label'] = label_encoder.fit_transform(data['condition_label'])"
      ],
      "execution_count": null,
      "outputs": []
    },
    {
      "cell_type": "code",
      "metadata": {
        "source_hash": null,
        "output_cleared": true,
        "execution_start": 1696316865126,
        "execution_millis": 5,
        "deepnote_to_be_reexecuted": false,
        "cell_id": "ee00a1722a774e9085896b50e902c12a",
        "deepnote_cell_type": "code",
        "id": "Ff5fKyDwZYyw"
      },
      "source": [
        "# Split data into training and testing sets\n",
        "X = data['clean_text']\n",
        "y = data['condition_label']\n",
        "X_train, X_test, y_train, y_test = train_test_split(X, y, test_size=0.2, random_state=12)"
      ],
      "execution_count": null,
      "outputs": []
    },
    {
      "cell_type": "code",
      "metadata": {
        "source_hash": null,
        "output_cleared": true,
        "execution_start": 1696316865166,
        "execution_millis": 904,
        "deepnote_to_be_reexecuted": false,
        "cell_id": "54915a19aec540f48eecf28663c6cc34",
        "deepnote_cell_type": "code",
        "id": "cUrNsFE_ZYyx"
      },
      "source": [
        "# Convert text data into numerical features with CountVectorizer\n",
        "vectorizer = CountVectorizer()\n",
        "X_train_counts = vectorizer.fit_transform(X_train)\n",
        "X_test_counts = vectorizer.transform(X_test)"
      ],
      "execution_count": null,
      "outputs": []
    },
    {
      "cell_type": "code",
      "metadata": {
        "source_hash": null,
        "output_cleared": true,
        "execution_start": 1696316880123,
        "execution_millis": 4004813,
        "deepnote_to_be_reexecuted": false,
        "cell_id": "a3c9fc4f5f3646219ba2bb258fb3707e",
        "deepnote_cell_type": "code",
        "id": "srNfKM6DZYyx"
      },
      "source": [
        "# Define the hyperparameter grid for SVM\n",
        "param_grid = {\n",
        "    'kernel': ['linear', 'rbf', 'sigmoid'],\n",
        "    'C': [0.1, 1, 10, 100],\n",
        "    'gamma': ['scale', 'auto', 0.1, 0.01, 0.001],\n",
        "}"
      ],
      "execution_count": null,
      "outputs": []
    },
    {
      "cell_type": "code",
      "metadata": {
        "output_cleared": true,
        "cell_id": "60840ef990004bd0972bda30f5b9870d",
        "deepnote_cell_type": "code",
        "id": "djcRitWOZYyz"
      },
      "source": [
        "# Use GridSearchCV to define best hyperparameters\n",
        "grid_search = GridSearchCV(svm_classifier, param_grid, cv=5, n_jobs=-1, verbose=1)\n",
        "\n",
        "grid_search.fit(X_train_counts, y_train)\n",
        "\n",
        "best_params = grid_search.best_params_\n",
        "best_svm_classifier = grid_search.best_estimator_\n",
        "\n",
        "print(\"Best Hyperparameters:\", best_params)"
      ],
      "execution_count": null,
      "outputs": []
    },
    {
      "cell_type": "markdown",
      "metadata": {
        "formattedRanges": [],
        "cell_id": "e7313b2e33724c3797582739db7e4317",
        "deepnote_cell_type": "text-cell-p",
        "id": "CgIbgmdHZYy0"
      },
      "source": [
        "Best Hyperparameters: {'C': 1, 'gamma': 'scale', 'kernel': 'sigmoid'}"
      ]
    },
    {
      "cell_type": "code",
      "metadata": {
        "source_hash": null,
        "output_cleared": true,
        "execution_start": 1696321245089,
        "execution_millis": 2874,
        "deepnote_to_be_reexecuted": false,
        "cell_id": "f2b264906e78492cb3fc265b04c4fe07",
        "deepnote_cell_type": "code",
        "id": "omImKIzkZYy1"
      },
      "source": [
        "# Make predictions on the test data\n",
        "y_pred = svm_classifier.predict(X_test_counts)"
      ],
      "execution_count": null,
      "outputs": []
    },
    {
      "cell_type": "code",
      "metadata": {
        "source_hash": null,
        "output_cleared": true,
        "execution_start": 1696321247978,
        "execution_millis": 10,
        "deepnote_to_be_reexecuted": false,
        "cell_id": "f6982368aa344c7da8f690bec632b041",
        "deepnote_cell_type": "code",
        "id": "IgG0uEEPZYy1"
      },
      "source": [
        "# Calculate accuracy\n",
        "accuracy = accuracy_score(y_test, y_pred)\n",
        "print(f\"Accuracy: {accuracy}\")"
      ],
      "execution_count": null,
      "outputs": []
    },
    {
      "cell_type": "code",
      "metadata": {
        "output_cleared": true,
        "cell_id": "c1ed76862c9c4f43a27dc8ee540cde01",
        "deepnote_cell_type": "code",
        "id": "BwSwEhuUZYy2"
      },
      "source": [
        "# Print classification report\n",
        "print(classification_report(y_test, y_pred))"
      ],
      "execution_count": null,
      "outputs": []
    },
    {
      "cell_type": "code",
      "metadata": {
        "source_hash": null,
        "output_cleared": true,
        "execution_start": 1696321248017,
        "execution_millis": 608,
        "deepnote_to_be_reexecuted": false,
        "cell_id": "bfb5cb619249412fa119b08d805a313f",
        "deepnote_cell_type": "code",
        "id": "w9o8vyPwZYy3"
      },
      "source": [
        "# Define and display confusion matrix\n",
        "def plot_confusion_matrix(y_test, y_pred, labels):\n",
        "    cm = confusion_matrix(y_test, y_pred, labels=labels)\n",
        "    disp = ConfusionMatrixDisplay(confusion_matrix=cm, display_labels=labels)\n",
        "    fig, ax = plt.subplots(figsize=(6,6))\n",
        "    plt.rcParams.update({'font.size':13, 'font.monospace':'Computer Modern Typewriter'})\n",
        "    disp.plot(ax=ax, cmap = \"binary\", colorbar=False)\n",
        "\n",
        "plot_confusion_matrix(y_test, y_pred,   labels=svm_classifier.classes_)"
      ],
      "execution_count": null,
      "outputs": []
    }
  ],
  "nbformat": 4,
  "nbformat_minor": 0,
  "metadata": {
    "deepnote": {},
    "orig_nbformat": 2,
    "deepnote_notebook_id": "007444c22e384462b9dd018566c26c51",
    "deepnote_execution_queue": [],
    "colab": {
      "provenance": []
    }
  }
}